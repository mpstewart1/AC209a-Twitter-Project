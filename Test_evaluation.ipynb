{
 "cells": [
  {
   "cell_type": "markdown",
   "metadata": {},
   "source": [
    " # Test and Evaluation"
   ]
  },
  {
   "cell_type": "markdown",
   "metadata": {},
   "source": [
    "One of the most important part of machine learning analytics is to take a deeper dive into model evaluation and performance metrics, and potential prediction-related errors that one may encounter. In this section, we did the error analysis for all the models we used for bot detection and compared the results. \n",
    "\n",
    "Note that in this classification problem, we define bots as positive, human users as negative. "
   ]
  },
  {
   "cell_type": "markdown",
   "metadata": {},
   "source": [
    "## Error analysis"
   ]
  },
  {
   "cell_type": "markdown",
   "metadata": {},
   "source": [
    "We calculated the confusion matrix for all the models and the result is shown in the table below. Based on those results, we did error analysis by comparing test accuracy, F score and AUC."
   ]
  },
  {
   "cell_type": "code",
   "execution_count": 10,
   "metadata": {},
   "outputs": [],
   "source": [
    "import pandas as pd\n",
    "import matplotlib.pyplot as plt\n",
    "import numpy as np"
   ]
  },
  {
   "cell_type": "markdown",
   "metadata": {},
   "source": [
    "### 1. Test accuracy"
   ]
  },
  {
   "cell_type": "markdown",
   "metadata": {},
   "source": [
    "We calculated the training accuracy and test accuracy for 11 models we created and also timed the training process for each model. The results are shown in the dataframe below, sorted by training time.\n",
    "\n",
    "In terms of training time, most of the models can be trained in a reasonable time, although polynomial logistic regression, stacking model and neural network seem to take extra long time . \n",
    "\n",
    "For the training accuracy, all the models have a very high training accuracy, some of them even reach 1.0."
   ]
  },
  {
   "cell_type": "code",
   "execution_count": 5,
   "metadata": {},
   "outputs": [
    {
     "data": {
      "text/html": [
       "<div>\n",
       "<style scoped>\n",
       "    .dataframe tbody tr th:only-of-type {\n",
       "        vertical-align: middle;\n",
       "    }\n",
       "\n",
       "    .dataframe tbody tr th {\n",
       "        vertical-align: top;\n",
       "    }\n",
       "\n",
       "    .dataframe thead th {\n",
       "        text-align: right;\n",
       "    }\n",
       "</style>\n",
       "<table border=\"1\" class=\"dataframe\">\n",
       "  <thead>\n",
       "    <tr style=\"text-align: right;\">\n",
       "      <th></th>\n",
       "      <th>Model</th>\n",
       "      <th>training time(s)</th>\n",
       "      <th>train accuracy</th>\n",
       "      <th>test accuracy</th>\n",
       "    </tr>\n",
       "  </thead>\n",
       "  <tbody>\n",
       "    <tr>\n",
       "      <th>8</th>\n",
       "      <td>Stacking (2nd-Level Model)</td>\n",
       "      <td>399.203999</td>\n",
       "      <td>0.993096</td>\n",
       "      <td>0.986386</td>\n",
       "    </tr>\n",
       "    <tr>\n",
       "      <th>1</th>\n",
       "      <td>Polynomial LR</td>\n",
       "      <td>50.692994</td>\n",
       "      <td>0.998938</td>\n",
       "      <td>0.969059</td>\n",
       "    </tr>\n",
       "    <tr>\n",
       "      <th>10</th>\n",
       "      <td>ANN</td>\n",
       "      <td>38.072873</td>\n",
       "      <td>0.994158</td>\n",
       "      <td>0.977723</td>\n",
       "    </tr>\n",
       "    <tr>\n",
       "      <th>4</th>\n",
       "      <td>AdaBoost</td>\n",
       "      <td>22.391462</td>\n",
       "      <td>1.000000</td>\n",
       "      <td>0.971535</td>\n",
       "    </tr>\n",
       "    <tr>\n",
       "      <th>6</th>\n",
       "      <td>kNN</td>\n",
       "      <td>15.479240</td>\n",
       "      <td>0.968136</td>\n",
       "      <td>0.949257</td>\n",
       "    </tr>\n",
       "    <tr>\n",
       "      <th>9</th>\n",
       "      <td>Blending (3rd-Level Model)</td>\n",
       "      <td>4.316027</td>\n",
       "      <td>1.000000</td>\n",
       "      <td>0.985149</td>\n",
       "    </tr>\n",
       "    <tr>\n",
       "      <th>5</th>\n",
       "      <td>XGBoost</td>\n",
       "      <td>2.791808</td>\n",
       "      <td>0.982673</td>\n",
       "      <td>0.982673</td>\n",
       "    </tr>\n",
       "    <tr>\n",
       "      <th>7</th>\n",
       "      <td>SVM</td>\n",
       "      <td>0.493397</td>\n",
       "      <td>0.925119</td>\n",
       "      <td>0.913366</td>\n",
       "    </tr>\n",
       "    <tr>\n",
       "      <th>0</th>\n",
       "      <td>Linear LR</td>\n",
       "      <td>0.278980</td>\n",
       "      <td>0.989379</td>\n",
       "      <td>0.971535</td>\n",
       "    </tr>\n",
       "    <tr>\n",
       "      <th>3</th>\n",
       "      <td>Random Forest</td>\n",
       "      <td>0.201104</td>\n",
       "      <td>1.000000</td>\n",
       "      <td>0.983911</td>\n",
       "    </tr>\n",
       "    <tr>\n",
       "      <th>2</th>\n",
       "      <td>LDA</td>\n",
       "      <td>0.013134</td>\n",
       "      <td>0.944769</td>\n",
       "      <td>0.931931</td>\n",
       "    </tr>\n",
       "  </tbody>\n",
       "</table>\n",
       "</div>"
      ],
      "text/plain": [
       "                         Model  training time(s)  train accuracy  \\\n",
       "8   Stacking (2nd-Level Model)        399.203999        0.993096   \n",
       "1                Polynomial LR         50.692994        0.998938   \n",
       "10                         ANN         38.072873        0.994158   \n",
       "4                     AdaBoost         22.391462        1.000000   \n",
       "6                          kNN         15.479240        0.968136   \n",
       "9   Blending (3rd-Level Model)          4.316027        1.000000   \n",
       "5                      XGBoost          2.791808        0.982673   \n",
       "7                          SVM          0.493397        0.925119   \n",
       "0                    Linear LR          0.278980        0.989379   \n",
       "3                Random Forest          0.201104        1.000000   \n",
       "2                          LDA          0.013134        0.944769   \n",
       "\n",
       "    test accuracy  \n",
       "8        0.986386  \n",
       "1        0.969059  \n",
       "10       0.977723  \n",
       "4        0.971535  \n",
       "6        0.949257  \n",
       "9        0.985149  \n",
       "5        0.982673  \n",
       "7        0.913366  \n",
       "0        0.971535  \n",
       "3        0.983911  \n",
       "2        0.931931  "
      ]
     },
     "execution_count": 5,
     "metadata": {},
     "output_type": "execute_result"
    }
   ],
   "source": [
    "df_timing = pd.read_csv('df_timing_acc.csv')\n",
    "df_time = df_timing.sort_values(['training time(s)'], ascending = False)\n",
    "df_timing = df_time.rename(index=str, columns={\"Unnamed: 0\": \"Model\"})\n",
    "df_timing"
   ]
  },
  {
   "cell_type": "markdown",
   "metadata": {},
   "source": [
    "Below we plotted the test accuracy, where the dashed line represents 98% accuracy. We can see that random forest, stacking and blending model appeared to be the best in terms of test accuracy. Given the similar accuracy, random forest model takes much shorter time to train, while the stacking training process is extremely time-consuming."
   ]
  },
  {
   "cell_type": "code",
   "execution_count": 67,
   "metadata": {},
   "outputs": [
    {
     "data": {
      "image/png": "[encoded data removed]",
      "text/plain": [
       "<Figure size 432x288 with 1 Axes>"
      ]
     },
     "metadata": {
      "needs_background": "light"
     },
     "output_type": "display_data"
    }
   ],
   "source": [
    "fig = plt.figure()\n",
    "xx = np.arange(len(df_timing))\n",
    "index_name=df_timing['Model']\n",
    "plt.barh(xx, df_timing['test accuracy'])\n",
    "plt.title('Test accuracy in each model ')\n",
    "plt.xlabel('ACC Test')\n",
    "plt.xlim((0.7,1.05))\n",
    "plt.ylim((-1,11))\n",
    "plt.vlines(0.98, -1, 11, linestyle = 'dashed')\n",
    "plt.yticks(xx,index_name,fontsize = 14);"
   ]
  },
  {
   "cell_type": "markdown",
   "metadata": {},
   "source": [
    "### 2. F score"
   ]
  },
  {
   "cell_type": "markdown",
   "metadata": {},
   "source": [
    "The traditional F-measure or balanced F-score (F1 score) is the harmonic mean of precision and recall, where precision is positive predictive value and recall is true positive rate. F1 score reaches its best value at 1 (perfect precision and recall) and worst at 0."
   ]
  },
  {
   "cell_type": "code",
   "execution_count": 95,
   "metadata": {},
   "outputs": [
    {
     "data": {
      "text/html": [
       "<div>\n",
       "<style scoped>\n",
       "    .dataframe tbody tr th:only-of-type {\n",
       "        vertical-align: middle;\n",
       "    }\n",
       "\n",
       "    .dataframe tbody tr th {\n",
       "        vertical-align: top;\n",
       "    }\n",
       "\n",
       "    .dataframe thead th {\n",
       "        text-align: right;\n",
       "    }\n",
       "</style>\n",
       "<table border=\"1\" class=\"dataframe\">\n",
       "  <thead>\n",
       "    <tr style=\"text-align: right;\">\n",
       "      <th></th>\n",
       "      <th>Model</th>\n",
       "      <th>F score</th>\n",
       "    </tr>\n",
       "  </thead>\n",
       "  <tbody>\n",
       "    <tr>\n",
       "      <th>0</th>\n",
       "      <td>Stacking (2nd-Level Model)</td>\n",
       "      <td>0.987709</td>\n",
       "    </tr>\n",
       "    <tr>\n",
       "      <th>1</th>\n",
       "      <td>Blending (3rd-Level Model)</td>\n",
       "      <td>0.986667</td>\n",
       "    </tr>\n",
       "    <tr>\n",
       "      <th>2</th>\n",
       "      <td>Random Forest</td>\n",
       "      <td>0.985442</td>\n",
       "    </tr>\n",
       "    <tr>\n",
       "      <th>3</th>\n",
       "      <td>XGBoost</td>\n",
       "      <td>0.984410</td>\n",
       "    </tr>\n",
       "    <tr>\n",
       "      <th>4</th>\n",
       "      <td>ANN</td>\n",
       "      <td>0.980000</td>\n",
       "    </tr>\n",
       "    <tr>\n",
       "      <th>5</th>\n",
       "      <td>Linear LR</td>\n",
       "      <td>0.974642</td>\n",
       "    </tr>\n",
       "    <tr>\n",
       "      <th>6</th>\n",
       "      <td>AdaBoost</td>\n",
       "      <td>0.974070</td>\n",
       "    </tr>\n",
       "    <tr>\n",
       "      <th>7</th>\n",
       "      <td>Polynomial LR</td>\n",
       "      <td>0.972497</td>\n",
       "    </tr>\n",
       "    <tr>\n",
       "      <th>8</th>\n",
       "      <td>kNN</td>\n",
       "      <td>0.955580</td>\n",
       "    </tr>\n",
       "    <tr>\n",
       "      <th>9</th>\n",
       "      <td>LDA</td>\n",
       "      <td>0.940541</td>\n",
       "    </tr>\n",
       "    <tr>\n",
       "      <th>10</th>\n",
       "      <td>SVM</td>\n",
       "      <td>0.924731</td>\n",
       "    </tr>\n",
       "  </tbody>\n",
       "</table>\n",
       "</div>"
      ],
      "text/plain": [
       "                         Model   F score\n",
       "0   Stacking (2nd-Level Model)  0.987709\n",
       "1   Blending (3rd-Level Model)  0.986667\n",
       "2                Random Forest  0.985442\n",
       "3                      XGBoost  0.984410\n",
       "4                          ANN  0.980000\n",
       "5                    Linear LR  0.974642\n",
       "6                     AdaBoost  0.974070\n",
       "7                Polynomial LR  0.972497\n",
       "8                          kNN  0.955580\n",
       "9                          LDA  0.940541\n",
       "10                         SVM  0.924731"
      ]
     },
     "execution_count": 95,
     "metadata": {},
     "output_type": "execute_result"
    }
   ],
   "source": [
    "test_pred_df = pd.read_csv('test_pred_df_for_ROC.csv')\n",
    "from sklearn.metrics import f1_score\n",
    "model_lst = df_timing['Model'].values\n",
    "fscore_lst = []\n",
    "for model in model_lst:\n",
    "    fscore_lst.append(f1_score(test_pred_df['Actual'], test_pred_df[model]))\n",
    "\n",
    "fscore_df = pd.DataFrame()\n",
    "fscore_df['Model'] = model_lst\n",
    "fscore_df['F score'] = fscore_lst\n",
    "fscore_df = fscore_df.sort_values('F score', ascending = False)\n",
    "fscore_df"
   ]
  },
  {
   "cell_type": "markdown",
   "metadata": {},
   "source": [
    "From the F score values, we can see that the three best models are stacking, blending and random forest."
   ]
  },
  {
   "cell_type": "markdown",
   "metadata": {},
   "source": [
    "### 3. AUC\n",
    "\n",
    "We also plotted the ROC(Receiver Operating Characteristic) curve and calculated AUC(Area under ROC curve) of different models to compare. An ROC curve is a two-dimensional plot of sensitivity (true positive rate) vs specificity (false positive rate). The area under the curve is referred to as the AUC, and is a numeric metric used to represent the quality and performance of the classifier (model). An AUC of 0.5 is essentially the same as random guessing without a model, whereas an AUC of 1.0 is considered a perfect classifier. Generally, the higher the AUC value, the better. "
   ]
  },
  {
   "cell_type": "code",
   "execution_count": 114,
   "metadata": {},
   "outputs": [
    {
     "data": {
      "image/png": "[encoded data removed]",
      "text/plain": [
       "<Figure size 432x288 with 1 Axes>"
      ]
     },
     "metadata": {
      "needs_background": "light"
     },
     "output_type": "display_data"
    },
    {
     "data": {
      "text/html": [
       "<div>\n",
       "<style scoped>\n",
       "    .dataframe tbody tr th:only-of-type {\n",
       "        vertical-align: middle;\n",
       "    }\n",
       "\n",
       "    .dataframe tbody tr th {\n",
       "        vertical-align: top;\n",
       "    }\n",
       "\n",
       "    .dataframe thead th {\n",
       "        text-align: right;\n",
       "    }\n",
       "</style>\n",
       "<table border=\"1\" class=\"dataframe\">\n",
       "  <thead>\n",
       "    <tr style=\"text-align: right;\">\n",
       "      <th></th>\n",
       "      <th>Model</th>\n",
       "      <th>AUC</th>\n",
       "    </tr>\n",
       "  </thead>\n",
       "  <tbody>\n",
       "    <tr>\n",
       "      <th>5</th>\n",
       "      <td>XGBoost</td>\n",
       "      <td>0.997405</td>\n",
       "    </tr>\n",
       "    <tr>\n",
       "      <th>3</th>\n",
       "      <td>Random Forest</td>\n",
       "      <td>0.996267</td>\n",
       "    </tr>\n",
       "    <tr>\n",
       "      <th>8</th>\n",
       "      <td>ANN</td>\n",
       "      <td>0.993682</td>\n",
       "    </tr>\n",
       "    <tr>\n",
       "      <th>0</th>\n",
       "      <td>Linear LR</td>\n",
       "      <td>0.993483</td>\n",
       "    </tr>\n",
       "    <tr>\n",
       "      <th>4</th>\n",
       "      <td>AdaBoost</td>\n",
       "      <td>0.991806</td>\n",
       "    </tr>\n",
       "    <tr>\n",
       "      <th>1</th>\n",
       "      <td>Polynomial LR</td>\n",
       "      <td>0.986012</td>\n",
       "    </tr>\n",
       "    <tr>\n",
       "      <th>2</th>\n",
       "      <td>LDA</td>\n",
       "      <td>0.979365</td>\n",
       "    </tr>\n",
       "    <tr>\n",
       "      <th>6</th>\n",
       "      <td>kNN</td>\n",
       "      <td>0.973546</td>\n",
       "    </tr>\n",
       "    <tr>\n",
       "      <th>7</th>\n",
       "      <td>SVM</td>\n",
       "      <td>0.969835</td>\n",
       "    </tr>\n",
       "  </tbody>\n",
       "</table>\n",
       "</div>"
      ],
      "text/plain": [
       "           Model       AUC\n",
       "5        XGBoost  0.997405\n",
       "3  Random Forest  0.996267\n",
       "8            ANN  0.993682\n",
       "0      Linear LR  0.993483\n",
       "4       AdaBoost  0.991806\n",
       "1  Polynomial LR  0.986012\n",
       "2            LDA  0.979365\n",
       "6            kNN  0.973546\n",
       "7            SVM  0.969835"
      ]
     },
     "execution_count": 114,
     "metadata": {},
     "output_type": "execute_result"
    }
   ],
   "source": [
    "test_pred_df = pd.read_csv('test_pred_df_for_ROC.csv')\n",
    "\n",
    "from sklearn import metrics\n",
    "fpr_LLR, tpr_LLR, thresholds_LLR = metrics.roc_curve(test_pred_df['Actual'], test_pred_df['Linear LR_prob'])\n",
    "auc_LLR = metrics.auc(fpr_LLR, tpr_LLR)\n",
    "\n",
    "fpr_PLR, tpr_PLR, thresholds_PLR = metrics.roc_curve(test_pred_df['Actual'], test_pred_df['Polynomial LR_proba'])\n",
    "auc_PLR = metrics.auc(fpr_PLR, tpr_PLR)\n",
    "\n",
    "fpr_LDA, tpr_LDA, thresholds_LDA = metrics.roc_curve(test_pred_df['Actual'], test_pred_df['LDA_proba'])\n",
    "auc_LDA = metrics.auc(fpr_LDA, tpr_LDA)\n",
    "\n",
    "fpr_RF, tpr_RF, thresholds_RF = metrics.roc_curve(test_pred_df['Actual'], test_pred_df['Random Forest_proba'])\n",
    "auc_RF = metrics.auc(fpr_RF, tpr_RF)\n",
    "    \n",
    "fpr_AdaBoost, tpr_AdaBoost, thresholds_AdaBoost = metrics.roc_curve(test_pred_df['Actual'], test_pred_df['AdaBoost_proba'])\n",
    "auc_AdaBoost = metrics.auc(fpr_AdaBoost, tpr_AdaBoost)\n",
    "\n",
    "fpr_XGBoost, tpr_XGBoost, thresholds_XGBoost = metrics.roc_curve(test_pred_df['Actual'], test_pred_df['XGBoost_proba'])\n",
    "auc_XGBoost = metrics.auc(fpr_XGBoost, tpr_XGBoost)\n",
    "\n",
    "fpr_kNN, tpr_kNN, thresholds_kNN = metrics.roc_curve(test_pred_df['Actual'], test_pred_df['kNN_proba'])\n",
    "auc_kNN = metrics.auc(fpr_kNN, tpr_kNN)\n",
    "\n",
    "fpr_SVM, tpr_SVM, thresholds_SVM = metrics.roc_curve(test_pred_df['Actual'], test_pred_df['SVM_proba'])\n",
    "auc_SVM = metrics.auc(fpr_SVM, tpr_SVM)\n",
    "\n",
    "#fpr_Stacking, tpr_Stacking, thresholds_Stacking = metrics.roc_curve(test_pred_df['Stacking (2nd-Level Model)'], test_pred_df['Stacking_proba'])\n",
    "#auc_Stacking = metrics.auc(fpr_Stacking, tpr_Stacking)\n",
    "\n",
    "#fpr_Blending, tpr_Blending, thresholds_Blending = metrics.roc_curve(test_pred_df['Blending'], test_pred_df['Blending_proba'])\n",
    "#auc_Blending = metrics.auc(fpr_Blending, tpr_Blending)\n",
    "\n",
    "fpr_ANN, tpr_ANN, thresholds_ANN = metrics.roc_curve(test_pred_df['Actual'], test_pred_df['ANN_proba'])\n",
    "auc_ANN = metrics.auc(fpr_ANN, tpr_ANN)\n",
    "\n",
    "plt.plot(fpr_LLR, tpr_LLR, label = 'Linear LR')\n",
    "plt.plot(fpr_PLR, tpr_PLR, label = 'Polynomial LR')\n",
    "plt.plot(fpr_LDA, tpr_LDA, label = 'LDA')\n",
    "plt.plot(fpr_RF, tpr_RF, label = 'Random Forest')\n",
    "plt.plot(fpr_AdaBoost, tpr_AdaBoost, label = 'AdaBoost')\n",
    "plt.plot(fpr_XGBoost, tpr_XGBoost, label = 'XGBoost')\n",
    "plt.plot(fpr_kNN, tpr_kNN, label = 'kNN')\n",
    "plt.plot(fpr_SVM, tpr_SVM, label = 'SVM')\n",
    "plt.plot(fpr_ANN, tpr_ANN, label = 'ANN')\n",
    "plt.xlabel('False positive rate')\n",
    "plt.ylabel('True positive rate')\n",
    "plt.legend()\n",
    "plt.show()\n",
    "\n",
    "models_list = ['Linear LR', 'Polynomial LR', 'LDA', 'Random Forest', 'AdaBoost', 'XGBoost', 'kNN', 'SVM', 'ANN']\n",
    "auc_lst = [auc_LLR, auc_PLR, auc_LDA, auc_RF, auc_AdaBoost, auc_XGBoost, auc_kNN, auc_SVM, auc_ANN]\n",
    "\n",
    "auc_df = pd.DataFrame()\n",
    "auc_df['Model'] = models_list\n",
    "auc_df['AUC'] =auc_lst\n",
    "auc_df = auc_df.sort_values('AUC', ascending = False)\n",
    "auc_df"
   ]
  },
  {
   "cell_type": "markdown",
   "metadata": {},
   "source": [
    "The table above showing AUC is ranked in descending order. From the ROC curve, except for some poorly performing models like SVM, kNN, LDA and Polynomial LR, those ROC curves for models with AUC higher than 0.99 overlapped with each other and are not distinguishable. The higher AUC, the better. In terms of AUC, XGBoost, random forest and ANN are the best. Note that we didn't include stacking and blending into this comparison, because we weren't able to calculate the prediction probability from those models."
   ]
  },
  {
   "cell_type": "markdown",
   "metadata": {},
   "source": [
    "## Evaluation"
   ]
  },
  {
   "cell_type": "markdown",
   "metadata": {},
   "source": [
    "After training the model and getting a fairly good result on the test set, we tried to use the model to predict bots on the unknown data and compared our results with a well-developed twitter bot detection platform, Botometer. \n",
    "\n",
    "Botometer (formerly BotOrNot), developed by researchers in Indiana University, checks the activity of a Twitter account and gives it a score based on how likely the account is to be a bot[1]. Higher scores are more bot-like. Botometer extracted 1150 features as the input of the model, including user meta-data, friend, network, timing, content and sentiment. It was trained on Social Honeypot dataset as we did as well. So we decided to compare our models with Botometer and see how well they do.\n",
    "\n",
    "The data was extracted from API search by using the keyword \"Trump\". We extracted 898 users and constructed the features for the model. "
   ]
  },
  {
   "cell_type": "markdown",
   "metadata": {},
   "source": [
    "### 1. Extracting the data"
   ]
  },
  {
   "cell_type": "code",
   "execution_count": null,
   "metadata": {},
   "outputs": [],
   "source": [
    "import time\n",
    "def get_tweets(query, count):\n",
    "\n",
    "    # empty list to store parsed tweets\n",
    "    tweets = []\n",
    "    # call twitter api to fetch tweets\n",
    "    q=str(query)\n",
    "    \n",
    "    for i in range(12):\n",
    "        fetched_tweets = api.search(q, count = count)\n",
    "        # parsing tweets one by one\n",
    "    \n",
    "        for tweet in fetched_tweets:\n",
    "\n",
    "            # empty dictionary to store required params of a tweet\n",
    "            parsed_tweet = {}\n",
    "            tweets.append(tweet.user.id)\n",
    "        \n",
    "        # Set sleep time to make sure that we got some different users\n",
    "        time.sleep(10)\n",
    "\n",
    "    return tweets\n",
    "\n",
    "tweets = get_tweets(query =\"Trump\", count = 100)\n",
    "user_id_lst = list(set(tweets))\n",
    "id_str_lst = [str(s) for s in user_id_lst]\n",
    "\n",
    "# Please see Data Acquisition for API_scrap and create_df function definition\n",
    "dfs_pred, fail_lst_pred = API_scrap(id_str_lst[0:1000], 10)\n",
    "full_df_pred = create_df(dfs_pred, 'pred_dataframe')"
   ]
  },
  {
   "cell_type": "markdown",
   "metadata": {},
   "source": [
    "### 2. Bots detection through Botometer"
   ]
  },
  {
   "cell_type": "markdown",
   "metadata": {},
   "source": [
    "To check bots through Botometer, one needs to install Botometer by: pip install botometer. The API they used is served via Mashape Market. You must sign up for a free account in order to obtain a Mashape secret key to run Botometer. After setting up the base environment, Botometer can loop through the provided user_id list and return bot detection results."
   ]
  },
  {
   "cell_type": "code",
   "execution_count": null,
   "metadata": {},
   "outputs": [],
   "source": [
    "import botometer\n",
    "\n",
    "mashape_key = \"uIX3UUkrh7mshux9VLXhN1FcUYY0p1ZEJpCjsnCHKddXFfIzhf\"\n",
    "twitter_app_auth = {\n",
    "    'consumer_key': 'pr0AH7Ot5sZmig4u3bA6j51ty',\n",
    "    'consumer_secret': 'tNteF0tRlEjKJfkkWQaIv5myqT9oBqrIVOYPQJOMjBTJhn9SAF',\n",
    "    'access_token': '934846563825930241-yO5rosUB4x8eFMO0J7IXV1UZM0RzbgL',\n",
    "    'access_token_secret': 'CbqfvlRonXo2JiIyxqCqeZynwkslNcDPmGFQ9KBEh8Mch',\n",
    "  }\n",
    "\n",
    "bom = botometer.Botometer(wait_on_ratelimit=True,mashape_key=mashape_key,twitter_app_auth)\n",
    "\n",
    "bot_df_final = pd.read_csv('bot_df_final.csv')\n",
    "pred_lst = bot_df_final['User ID'][0:100]\n",
    "total_result_lst = []\n",
    "for user_id in pred_lst:\n",
    "    result = bom.check_account(user_id)\n",
    "    total_result_lst.append(result)"
   ]
  },
  {
   "cell_type": "markdown",
   "metadata": {},
   "source": [
    "The returned result from Botometer is a dictionary of all kinds of scores that could be used to detect bots. We extracted all the information and put it in a more user-friendly data structure. We interpreted the result from Botometer by setting the threshold for bot score as 0.5, which is similar to their result in the paper[1], meaning that any user has a bot score higher than 0.5 would be identified as a bot."
   ]
  },
  {
   "cell_type": "code",
   "execution_count": 11,
   "metadata": {},
   "outputs": [
    {
     "data": {
      "text/html": [
       "<div>\n",
       "<style scoped>\n",
       "    .dataframe tbody tr th:only-of-type {\n",
       "        vertical-align: middle;\n",
       "    }\n",
       "\n",
       "    .dataframe tbody tr th {\n",
       "        vertical-align: top;\n",
       "    }\n",
       "\n",
       "    .dataframe thead th {\n",
       "        text-align: right;\n",
       "    }\n",
       "</style>\n",
       "<table border=\"1\" class=\"dataframe\">\n",
       "  <thead>\n",
       "    <tr style=\"text-align: right;\">\n",
       "      <th></th>\n",
       "      <th>User_id</th>\n",
       "      <th>User_name</th>\n",
       "      <th>cap_english</th>\n",
       "      <th>cap_universal</th>\n",
       "      <th>cat_content</th>\n",
       "      <th>cat_friend</th>\n",
       "      <th>cat_network</th>\n",
       "      <th>cat_sentiment</th>\n",
       "      <th>cat_temporal</th>\n",
       "      <th>cat_user</th>\n",
       "      <th>ds_content</th>\n",
       "      <th>ds_friend</th>\n",
       "      <th>ds_network</th>\n",
       "      <th>ds_sentiment</th>\n",
       "      <th>ds_temporal</th>\n",
       "      <th>ds_user</th>\n",
       "      <th>score_eng</th>\n",
       "      <th>score_uni</th>\n",
       "    </tr>\n",
       "  </thead>\n",
       "  <tbody>\n",
       "    <tr>\n",
       "      <th>0</th>\n",
       "      <td>876476261220179968</td>\n",
       "      <td>CKassube</td>\n",
       "      <td>0.009922</td>\n",
       "      <td>0.012907</td>\n",
       "      <td>0.381523</td>\n",
       "      <td>0.209572</td>\n",
       "      <td>0.224270</td>\n",
       "      <td>0.655212</td>\n",
       "      <td>0.229194</td>\n",
       "      <td>0.175910</td>\n",
       "      <td>1.9</td>\n",
       "      <td>1.0</td>\n",
       "      <td>1.1</td>\n",
       "      <td>3.3</td>\n",
       "      <td>1.1</td>\n",
       "      <td>0.9</td>\n",
       "      <td>0.180767</td>\n",
       "      <td>0.194668</td>\n",
       "    </tr>\n",
       "    <tr>\n",
       "      <th>1</th>\n",
       "      <td>909863671563739136</td>\n",
       "      <td>lesabaker43</td>\n",
       "      <td>0.032183</td>\n",
       "      <td>0.060559</td>\n",
       "      <td>0.333488</td>\n",
       "      <td>0.452812</td>\n",
       "      <td>0.627139</td>\n",
       "      <td>0.698843</td>\n",
       "      <td>0.355949</td>\n",
       "      <td>0.110530</td>\n",
       "      <td>1.7</td>\n",
       "      <td>2.3</td>\n",
       "      <td>3.1</td>\n",
       "      <td>3.5</td>\n",
       "      <td>1.8</td>\n",
       "      <td>0.6</td>\n",
       "      <td>0.322306</td>\n",
       "      <td>0.413570</td>\n",
       "    </tr>\n",
       "    <tr>\n",
       "      <th>2</th>\n",
       "      <td>951973545831223296</td>\n",
       "      <td>justinChilds17</td>\n",
       "      <td>0.075832</td>\n",
       "      <td>0.104603</td>\n",
       "      <td>0.767062</td>\n",
       "      <td>0.552900</td>\n",
       "      <td>0.568829</td>\n",
       "      <td>0.624537</td>\n",
       "      <td>0.399625</td>\n",
       "      <td>0.700922</td>\n",
       "      <td>3.8</td>\n",
       "      <td>2.8</td>\n",
       "      <td>2.8</td>\n",
       "      <td>3.1</td>\n",
       "      <td>2.0</td>\n",
       "      <td>3.5</td>\n",
       "      <td>0.463592</td>\n",
       "      <td>0.515643</td>\n",
       "    </tr>\n",
       "    <tr>\n",
       "      <th>3</th>\n",
       "      <td>981943174947065856</td>\n",
       "      <td>onegracehill</td>\n",
       "      <td>0.018904</td>\n",
       "      <td>0.011448</td>\n",
       "      <td>0.288679</td>\n",
       "      <td>0.356398</td>\n",
       "      <td>0.403511</td>\n",
       "      <td>0.072140</td>\n",
       "      <td>0.301336</td>\n",
       "      <td>0.126666</td>\n",
       "      <td>1.4</td>\n",
       "      <td>1.8</td>\n",
       "      <td>2.0</td>\n",
       "      <td>0.4</td>\n",
       "      <td>1.5</td>\n",
       "      <td>0.6</td>\n",
       "      <td>0.252653</td>\n",
       "      <td>0.182079</td>\n",
       "    </tr>\n",
       "    <tr>\n",
       "      <th>4</th>\n",
       "      <td>4735793156</td>\n",
       "      <td>BrennyBatt</td>\n",
       "      <td>0.001828</td>\n",
       "      <td>0.005213</td>\n",
       "      <td>0.085698</td>\n",
       "      <td>0.178233</td>\n",
       "      <td>0.194174</td>\n",
       "      <td>0.059859</td>\n",
       "      <td>0.083889</td>\n",
       "      <td>0.054257</td>\n",
       "      <td>0.4</td>\n",
       "      <td>0.9</td>\n",
       "      <td>1.0</td>\n",
       "      <td>0.3</td>\n",
       "      <td>0.4</td>\n",
       "      <td>0.3</td>\n",
       "      <td>0.049184</td>\n",
       "      <td>0.111167</td>\n",
       "    </tr>\n",
       "  </tbody>\n",
       "</table>\n",
       "</div>"
      ],
      "text/plain": [
       "              User_id       User_name  cap_english  cap_universal  \\\n",
       "0  876476261220179968        CKassube     0.009922       0.012907   \n",
       "1  909863671563739136     lesabaker43     0.032183       0.060559   \n",
       "2  951973545831223296  justinChilds17     0.075832       0.104603   \n",
       "3  981943174947065856    onegracehill     0.018904       0.011448   \n",
       "4          4735793156      BrennyBatt     0.001828       0.005213   \n",
       "\n",
       "   cat_content  cat_friend  cat_network  cat_sentiment  cat_temporal  \\\n",
       "0     0.381523    0.209572     0.224270       0.655212      0.229194   \n",
       "1     0.333488    0.452812     0.627139       0.698843      0.355949   \n",
       "2     0.767062    0.552900     0.568829       0.624537      0.399625   \n",
       "3     0.288679    0.356398     0.403511       0.072140      0.301336   \n",
       "4     0.085698    0.178233     0.194174       0.059859      0.083889   \n",
       "\n",
       "   cat_user  ds_content  ds_friend  ds_network  ds_sentiment  ds_temporal  \\\n",
       "0  0.175910         1.9        1.0         1.1           3.3          1.1   \n",
       "1  0.110530         1.7        2.3         3.1           3.5          1.8   \n",
       "2  0.700922         3.8        2.8         2.8           3.1          2.0   \n",
       "3  0.126666         1.4        1.8         2.0           0.4          1.5   \n",
       "4  0.054257         0.4        0.9         1.0           0.3          0.4   \n",
       "\n",
       "   ds_user  score_eng  score_uni  \n",
       "0      0.9   0.180767   0.194668  \n",
       "1      0.6   0.322306   0.413570  \n",
       "2      3.5   0.463592   0.515643  \n",
       "3      0.6   0.252653   0.182079  \n",
       "4      0.3   0.049184   0.111167  "
      ]
     },
     "execution_count": 11,
     "metadata": {},
     "output_type": "execute_result"
    }
   ],
   "source": [
    "df_botometer = pd.read_csv('botometer_result.csv')\n",
    "df_botometer.head()"
   ]
  },
  {
   "cell_type": "code",
   "execution_count": 7,
   "metadata": {},
   "outputs": [
    {
     "name": "stdout",
     "output_type": "stream",
     "text": [
      "Percentage of bots detected by Botometer: 0.08351893095768374\n"
     ]
    }
   ],
   "source": [
    "dff_botometer = df_botometer.loc[(df_botometer['score_eng'] > 0.5)&(df_botometer['score_uni'] > 0.5)]\n",
    "print('Percentage of bots detected by Botometer:',len(dff_botometer)/len(df_botometer))\n",
    "botometer = dff_botometer['User_id'].values"
   ]
  },
  {
   "cell_type": "markdown",
   "metadata": {},
   "source": [
    "### 3. Bots detection through our model"
   ]
  },
  {
   "cell_type": "markdown",
   "metadata": {},
   "source": [
    "#### With user features only\n",
    "\n",
    "Below is the comparison result of models using only user meta data features with Botometer. The percentages of bots detected through three models are around the same level, although the detected bots are not exactly the same. \n",
    "\n",
    "In Venn diagram below, we show the intersection between different groups of bots detected by different models. To further compare the models performance, we did some manual check on those bots sitting in different groups and found that:\n",
    "\n",
    "1. The intersection of three models are definitely bots, either with crazily high tweeting frequency or full of retweets.\n",
    "2. For those \"bots\" detected by only one model, some of them can also be verified as bots, but others are more like active human users.\n",
    "\n",
    "Detailed manual check results can be found below."
   ]
  },
  {
   "cell_type": "code",
   "execution_count": 44,
   "metadata": {},
   "outputs": [
    {
     "name": "stdout",
     "output_type": "stream",
     "text": [
      "*****************User features only*****************\n",
      "Percentage of bots detected by Botometer: 0.08351893095768374\n",
      "Percentage of bots detected by random forest: 0.04788418708240535\n",
      "Percentage of bots detected by stacking: 0.07906458797327394\n",
      "Random forest: [1060298184277323776, 801555575687495681, 918534858871377920, 1065496286101757952, 892394563243061250, 52985157, 1017816501951184898, 3792585192, 108985609, 766547376, 36175156, 4180352153]\n",
      "Stacking: [726236936038440960, 1020642357539196928, 801555575687495681, 4918885219, 1060298184277323776, 1028366243601018881, 952224908351860738, 1067507183829622789, 3792585192, 108985609, 52985157, 834852928376733697, 994233749020659712, 1017816501951184898, 766547376, 36175156, 3648811994]\n"
     ]
    }
   ],
   "source": [
    "user_models_df = pd.read_csv('bot_detection_df2.csv')\n",
    "print('*****************User features only*****************')\n",
    "print('Percentage of bots detected by Botometer:',len(dff_botometer)/len(df_botometer))\n",
    "user_bot_rf = list(user_models_df.loc[user_models_df['Random Forest'] == 1]['User ID'].values)\n",
    "print('Percentage of bots detected by random forest:',len(user_bot_rf)/len(user_models_df))\n",
    "user_bot_stacking = list(user_models_df.loc[user_models_df['stacking'] == 1]['User ID'].values)\n",
    "print('Percentage of bots detected by stacking:',len(user_bot_stacking)/len(user_models_df))\n",
    "\n",
    "print('Random forest:', list(set(user_bot_rf).intersection(botometer)))\n",
    "print('Stacking:', list(set(user_bot_stacking).intersection(botometer)))"
   ]
  },
  {
   "cell_type": "code",
   "execution_count": 47,
   "metadata": {},
   "outputs": [
    {
     "data": {
      "image/png": "[encoded data removed]",
      "text/plain": [
       "<Figure size 432x288 with 1 Axes>"
      ]
     },
     "metadata": {},
     "output_type": "display_data"
    }
   ],
   "source": [
    "import matplotlib.pyplot as plt\n",
    "from matplotlib_venn import venn3\n",
    "set1 = set(user_bot_rf)\n",
    "set2 = set(user_bot_stacking)\n",
    "set3 = set(botometer)\n",
    "\n",
    "venn3([set1, set2, set3], ('Random forest', 'Stacking', 'Botometer'))\n",
    "plt.title('Venn diagram of model prediction result using user features only')\n",
    "plt.show()"
   ]
  },
  {
   "cell_type": "markdown",
   "metadata": {},
   "source": [
    "Below is the detailed result from manual check.\n",
    "\n",
    "Intersection of the three:\n",
    "   1. 1060298184277323776, Cal Washington, original tweets about random stuff, about 10 tweets per hour and tweets continuously through the day.\n",
    "   2. 766547376, Ron *Thug* Hall, political bot (Obama supporter), most of the posts are retweets.\n",
    "   3. 36175156, Jo4Trump {⭐️} (K) ⭐️⭐️⭐️, political bot(Trump supporter), most of the posts are retweets.\n",
    "   4. 801555575687495681, ▶ Trump Daily News 📰, original tweets with high frequency.\n",
    "   5. 52985157, ❌Janice nagao, political/religious bot, most of the posts are retweets.\n",
    "   6. 108985609, Off Grid Capital, business/political bot, most of the posts are retweets.\n",
    "   7. 3792585192, Countable Action, all original tweets with media in almost every tweet.\n",
    "   8. 1017816501951184898, xiangfei000, original tweets with high frequency, mostly political news, tweet continuously through the day with a high frequency.\n",
    "    \n",
    "Detected only by random forest\n",
    "   1. 2136431, Sandrine Plasseraud, CEO of We are social France, has a lot of retweets, but also have fair amount of interation with other users\n",
    "   2. 1037558870, Sophie Rose, looks like a human user\n",
    "   3. 794727833041969152, lonie koob, political bot, full of retweets against Trump.\n",
    "    \n",
    "Detected only by stacking\n",
    "   1. 7577032, Jeremy Ricketts, looks like a human user\n",
    "   2. 1447517750, Reject Trump Nazism 🔥🐈, political bot, full of retweets\n",
    "   3. 923159798840832001, Michael T Biehunko, political bot, full of retweets\n",
    "    \n",
    "Detected only by Botometer\n",
    "   1. 16585101, ouchinagirl, political bot, seems to be part of a botnet, only retweets\n",
    "   2. 4784160126, Disco_Snoopy, bot, tweets every minute.\n",
    "   3. 981849056380116992, lasandr61994924, very young twitter account, might be a bot, only retweets, default settings.\n",
    "\n"
   ]
  },
  {
   "cell_type": "markdown",
   "metadata": {},
   "source": [
    "#### Combine NLP features and user features\n",
    "\n",
    "Below is the comparison result of models using user features and NLP generated features with Botometer. The percentages of bots detected by our model are much lower than that of Botometer. \n",
    "\n",
    "In Venn diagram below, we show the intersection between different groups of bots detected by different models. To further compare the models performance, we did some manual check on those bots sitting in different groups and found that:\n",
    "\n",
    "1. The intersection of three models is actually not a typical bot.\n",
    "2. For those \"bots\" detected by only one model, same as before, some of them can also be verified as bots, but others are more like active human users.\n",
    "\n",
    "Detailed manual check results can be found below."
   ]
  },
  {
   "cell_type": "code",
   "execution_count": 46,
   "metadata": {},
   "outputs": [
    {
     "name": "stdout",
     "output_type": "stream",
     "text": [
      "*****************User features & NLP features*****************\n",
      "Percentage of bots detected by Botometer: 0.08351893095768374\n",
      "Percentage of bots detected by random forest: 0.05753739930955121\n",
      "Percentage of bots detected by stacking: 0.00805523590333717\n",
      "Random forest: [981849056380116992, 1005429994682834944, 898297278074687488, 817807265633705984, 871379599472697344, 836057575296663552, 1070725412190224384, 892394563243061250, 945886293359198209, 108985609, 491838942]\n",
      "Stacking: [981849056380116992]\n"
     ]
    }
   ],
   "source": [
    "models_df = pd.read_csv('pre_df_prediction_NLP_final.csv')\n",
    "\n",
    "random_forest03 = []\n",
    "for i in range(len(models_df)):\n",
    "    if models_df['Random Forest_proba'][i] >= 0.3:\n",
    "        random_forest03.append(1)\n",
    "    else: random_forest03.append(0)\n",
    "\n",
    "models_df['Random Forest03'] = random_forest03\n",
    "print('*****************User features & NLP features*****************')\n",
    "print('Percentage of bots detected by Botometer:',len(dff_botometer)/len(df_botometer))\n",
    "#bot_rf = list(models_df.loc[models_df['Random Forest'] == 1]['User ID'].values)\n",
    "bot_rf = list(models_df.loc[models_df['Random Forest03'] == 1]['User ID'].values)\n",
    "print('Percentage of bots detected by random forest:',len(bot_rf)/len(models_df))\n",
    "bot_stacking = list(models_df.loc[models_df['Stacking (2nd-Level Model)'] == 1]['User ID'].values)\n",
    "print('Percentage of bots detected by stacking:',len(bot_stacking)/len(models_df))\n",
    "\n",
    "print('Random forest:', list(set(bot_rf).intersection(botometer)))\n",
    "print('Stacking:', list(set(bot_stacking).intersection(botometer)))"
   ]
  },
  {
   "cell_type": "code",
   "execution_count": 48,
   "metadata": {},
   "outputs": [
    {
     "data": {
      "image/png": "[encoded data removed]",
      "text/plain": [
       "<Figure size 432x288 with 1 Axes>"
      ]
     },
     "metadata": {},
     "output_type": "display_data"
    }
   ],
   "source": [
    "set1 = set(bot_rf)\n",
    "set2 = set(bot_stacking)\n",
    "set3 = set(botometer)\n",
    "\n",
    "venn3([set1, set2, set3], ('Random forest', 'stacking', 'Botometer'))\n",
    "plt.title('Venn diagram of model prediction result using user features and NLP features')\n",
    "plt.show()"
   ]
  },
  {
   "cell_type": "markdown",
   "metadata": {},
   "source": [
    "Below is the detailed result from manual check.\n",
    "\n",
    "Intersection of the three:\n",
    "   1. 981849056380116992, lasandr61994924, very young twitter account, might be a bot, only retweets, default settings.\n",
    "    \n",
    "Detected only by random forest\n",
    "   1. 47872600, Gerlandinho, frequent retweets only, looks like a bot\n",
    "   2. 766167322109284352, SavingTheWest, default settings, a lot of retweets, but the frequency is acceptable, also some original tweets.\n",
    "   3. 1028343989005692929, sandyburrell8, looks like a bot, default settings, frequently continuous tweets and retweets.\n",
    "    \n",
    "Detected only by Botometer\n",
    "   1. 16585101, ouchinagirl, political bot, seems to be part of a botnet, only retweets\n",
    "   2. 4784160126, Disco_Snoopy, definitely a bot, tweets every minute.\n",
    "   3. 978333132511436800, RobertElzey6, looks like a bot, very frequent retweets.\n",
    "\n",
    "\n"
   ]
  },
  {
   "cell_type": "markdown",
   "metadata": {},
   "source": [
    "### 4. Conclusion\n",
    "\n",
    "From the comparison above, none of the models can capture all the bots. Even for the complex model using more than 1000 features like Botometer, there is still some missing spots. But our random forest model and stacking model with user features seem to do a decent job at bot detection. Adding NLP related features did improve the training and test accuracy a lot, but there might be some overfitting problem, so the model predicts limited bots when applied to real world."
   ]
  },
  {
   "cell_type": "markdown",
   "metadata": {},
   "source": [
    "## Reference"
   ]
  },
  {
   "cell_type": "markdown",
   "metadata": {},
   "source": [
    "[1] Varol, O., Ferrara, E., Davis, C. A., Menczer, F., & Flammini, A. (2017). Online human-bot interactions: Detection, estimation, and characterization. arXiv preprint arXiv:1703.03107."
   ]
  }
 ],
 "metadata": {
  "kernelspec": {
   "display_name": "Python 3",
   "language": "python",
   "name": "python3"
  },
  "language_info": {
   "codemirror_mode": {
    "name": "ipython",
    "version": 3
   },
   "file_extension": ".py",
   "mimetype": "text/x-python",
   "name": "python",
   "nbconvert_exporter": "python",
   "pygments_lexer": "ipython3",
   "version": "3.6.6"
  }
 },
 "nbformat": 4,
 "nbformat_minor": 2
}
