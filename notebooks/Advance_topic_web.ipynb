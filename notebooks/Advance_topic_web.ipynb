{
 "cells": [
  {
   "cell_type": "markdown",
   "metadata": {
    "colab_type": "text",
    "id": "izqiUikwxuWu"
   },
   "source": [
    " AC209a Twitter Project - Group 15\n",
    "\n",
    "## Advance models with NLP features\n",
    "\n",
    "<hr style=\"height:2pt\">"
   ]
  },
  {
   "cell_type": "markdown",
   "metadata": {},
   "source": [
    "## Data cleaning"
   ]
  },
  {
   "cell_type": "markdown",
   "metadata": {},
   "source": [
    "In this part, we import datasets from previous section, split the dataset into training and test set and do data cleaning  by normalizing data in each columns. The feature we used here include feature we extracted from NLP."
   ]
  },
  {
   "cell_type": "code",
   "execution_count": 410,
   "metadata": {},
   "outputs": [],
   "source": [
    "user_df = pd.read_csv(r\"merged_mean_imputed_legit.csv\",index_col='User ID')\n",
    "bot_df = pd.read_csv(r\"merged_mean_imputed_bots.csv\",index_col='User ID')\n",
    "# pre_df=pd.read_csv(r\"pred_dataframe.csv\",index_col='User ID')\n",
    "bot_df['bot']=1\n",
    "user_df['bot']=0\n",
    "total_df = bot_df.append(user_df)"
   ]
  },
  {
   "cell_type": "code",
   "execution_count": 411,
   "metadata": {},
   "outputs": [],
   "source": [
    "total_df=total_df.drop(['bot_bool','Account age (days)','avg_num_caps', 'avg_words_per_tweet','word_diversity', 'difficult_words_score','avg_readability_combined_metric','avg_flesch_reading_ease', 'avg_readability_DC', 'full_tweet_text','avg_num_hashtags.1','percent_with_p_emoji','percent_with_n_emoji','percent_with_pn_emoji','avg_num_exclamation','avg_num_ellipses'],axis=1)\n",
    "total_df=pd.get_dummies(total_df, prefix=['overall_language'], columns=['overall_language'])"
   ]
  },
  {
   "cell_type": "code",
   "execution_count": 412,
   "metadata": {},
   "outputs": [],
   "source": [
    "train_data, test_data = train_test_split(total_df, test_size = 0.3, random_state=99)\n",
    "Y_train=train_data['bot']\n",
    "Y_test=test_data['bot']\n",
    "X_train=train_data.drop('bot',axis=1)\n",
    "X_test=test_data.drop('bot',axis=1)"
   ]
  },
  {
   "cell_type": "code",
   "execution_count": 413,
   "metadata": {},
   "outputs": [],
   "source": [
    "X_test=X_test.replace([np.inf, -np.inf], np.nan).dropna()\n",
    "X_train=X_train.replace([np.inf, -np.inf], np.nan).dropna()"
   ]
  },
  {
   "cell_type": "code",
   "execution_count": 414,
   "metadata": {},
   "outputs": [],
   "source": [
    "def normalize(df,df_train):\n",
    "    result = df.copy()\n",
    "    for feature_name in df_train.columns:\n",
    "        max_value = df_train[feature_name].max()\n",
    "        min_value = df_train[feature_name].min()\n",
    "        result[feature_name] = (df[feature_name] - min_value) / (max_value - min_value)\n",
    "    return result"
   ]
  },
  {
   "cell_type": "code",
   "execution_count": 415,
   "metadata": {},
   "outputs": [],
   "source": [
    "X_train_scaled=normalize(X_train,X_train)\n",
    "X_test_scaled=normalize(X_test,X_train)\n",
    "X_train_scaled=X_train_scaled.drop(['overall_language_bg','overall_language_fa','overall_language_lv','overall_language_lv','overall_language_sw'],axis=1)\n",
    "X_test_scaled=X_test_scaled.drop(['overall_language_bg','overall_language_fa','overall_language_lv','overall_language_lv','overall_language_sw'],axis=1)"
   ]
  },
  {
   "cell_type": "markdown",
   "metadata": {
    "colab_type": "text",
    "id": "CuD5S8xHr0v8"
   },
   "source": [
    "# Models  with  NLP Features"
   ]
  },
  {
   "cell_type": "markdown",
   "metadata": {},
   "source": [
    "Similar to the that in the model development,we also use Logistic Regression, LDA/QDA, Random Forest,Boosting, and Support Vector Machines models. \n",
    "\n",
    "Two major improvements from what we did in the model development section are:\n",
    "\n",
    "* Include features from NLP into these models;\n",
    "\n",
    "* Include Feed Forward Artificial Neural Network; Stacking (Meta Ensembling) and Blended Ensemble Methods in the model."
   ]
  },
  {
   "cell_type": "markdown",
   "metadata": {},
   "source": [
    "## Logistic Regression"
   ]
  },
  {
   "cell_type": "code",
   "execution_count": 417,
   "metadata": {},
   "outputs": [
    {
     "name": "stdout",
     "output_type": "stream",
     "text": [
      "Accuracy of logistic regression model on the test set is 0.972\n"
     ]
    }
   ],
   "source": [
    "start_time = time.time()\n",
    "logreg = LogisticRegression(C=100000,fit_intercept=True).fit(X_train_scaled,Y_train)\n",
    "time_logistic=time.time() - start_time\n",
    "logreg_train = logreg.score(X_train_scaled, Y_train)\n",
    "logreg_test = logreg.score(X_test_scaled, Y_test)\n",
    "print('Accuracy of logistic regression model on the test set is {:.3f}'.format(logreg_test))"
   ]
  },
  {
   "cell_type": "code",
   "execution_count": 418,
   "metadata": {},
   "outputs": [
    {
     "name": "stdout",
     "output_type": "stream",
     "text": [
      "Polynomial-logistic accuracy:test=96.9%\n"
     ]
    }
   ],
   "source": [
    "# Logistic regression w/ quadratic + interaction terms + regularization\n",
    "start_time = time.time()\n",
    "polynomial_logreg_estimator = make_pipeline(\n",
    "    PolynomialFeatures(degree=2, include_bias=True),\n",
    "    LogisticRegressionCV(multi_class=\"ovr\", penalty='l2', cv=5, max_iter=10000))\n",
    "linearLogCVpoly = polynomial_logreg_estimator.fit(X_train_scaled, Y_train)\n",
    "time_linearLogCVpoly=time.time() - start_time\n",
    "\n",
    "# Compare results\n",
    "print('Polynomial-logistic accuracy:test={:.1%}'.format( linearLogCVpoly.score(X_test_scaled, Y_test)))\n",
    "\n",
    "linearLogCVpoly_train = linearLogCVpoly.score(X_train_scaled, Y_train)\n",
    "linearLogCVpoly_test = linearLogCVpoly.score(X_test_scaled, Y_test)"
   ]
  },
  {
   "cell_type": "code",
   "execution_count": 420,
   "metadata": {},
   "outputs": [],
   "source": [
    "y_pred_logreg= logreg.predict(X_test_scaled)\n",
    "y_pred_logreg_proba=logreg.predict_proba(X_test_scaled)[:,1]\n",
    "y_pred_linearLogCVpoly= linearLogCVpoly.predict(X_test_scaled)\n",
    "y_pred_linearLogCVpoly_proba=linearLogCVpoly.predict_proba(X_test_scaled)[:,1]"
   ]
  },
  {
   "cell_type": "markdown",
   "metadata": {
    "colab_type": "text",
    "id": "bODKODK7r0wM"
   },
   "source": [
    "## LDA and QDA Model"
   ]
  },
  {
   "cell_type": "code",
   "execution_count": 318,
   "metadata": {},
   "outputs": [
    {
     "name": "stdout",
     "output_type": "stream",
     "text": [
      "---lda 0.013133764266967773 seconds ---\n",
      "--- qda 0.008303165435791016 seconds ---\n",
      "LDA accuracy train=94.5%, test: 93.2%\n",
      "QDA accuracy train=72.8%, test: 72.3%\n"
     ]
    }
   ],
   "source": [
    "start_time = time.time()\n",
    "lda = LinearDiscriminantAnalysis(store_covariance=True)\n",
    "lda.fit(X_train_scaled, Y_train)\n",
    "time_lda=time.time() - start_time\n",
    "print(\"---lda %s seconds ---\" % (time_lda))\n",
    "\n",
    "start_time = time.time()\n",
    "qda = QuadraticDiscriminantAnalysis(store_covariance=True)\n",
    "qda.fit(X_train_scaled, Y_train)\n",
    "time_qda=time.time() - start_time\n",
    "print(\"--- qda %s seconds ---\" % (time_qda))\n",
    "\n",
    "y_pred_lda=lda.predict(X_test_scaled)\n",
    "y_pred_lda_proba=lda.predict_proba(X_test_scaled)[:,1]\n",
    "\n",
    "y_pred_qda=qda.predict(X_test_scaled)\n",
    "lda_train = lda.score(X_train_scaled, Y_train)\n",
    "lda_test = lda.score(X_test_scaled, Y_test)\n",
    "qda_train = qda.score(X_train_scaled, Y_train)\n",
    "y_pred_qda_proba=qda.predict_proba(X_test_scaled)[:,1]\n",
    "\n",
    "qda_test = qda.score(X_test_scaled, Y_test)\n",
    "\n",
    "print('LDA accuracy train={:.1%}, test: {:.1%}'.format(\n",
    "    lda.score(X_train_scaled, Y_train), lda.score(X_test_scaled, Y_test)))\n",
    "\n",
    "print('QDA accuracy train={:.1%}, test: {:.1%}'.format(\n",
    "    qda.score(X_train_scaled, Y_train), qda.score(X_test_scaled, Y_test)))"
   ]
  },
  {
   "cell_type": "markdown",
   "metadata": {},
   "source": [
    "## Random forest"
   ]
  },
  {
   "cell_type": "code",
   "execution_count": 324,
   "metadata": {},
   "outputs": [
    {
     "name": "stdout",
     "output_type": "stream",
     "text": [
      "--- 0.20110392570495605 seconds ---\n",
      "RF accuracy train=100.0%, test: 98.4%\n"
     ]
    }
   ],
   "source": [
    "start_time = time.time()\n",
    "ntrees = 50\n",
    "rf = RandomForestClassifier(n_estimators=ntrees , max_depth=15, max_features='auto')\n",
    "rf.fit(X_train_scaled, Y_train)\n",
    "\n",
    "time_rf=time.time() - start_time\n",
    "print(\"--- %s seconds ---\" % (time_rf))\n",
    "\n",
    "rf_train =rf.score(X_train_scaled, Y_train)\n",
    "rf_test =rf.score(X_test_scaled, Y_test)\n",
    "rf_y_test_proba =rf.predict_proba(X_test_scaled)[:,1]\n",
    "rf_y_test =rf.predict(X_test_scaled)\n",
    "print('RF accuracy train={:.1%}, test: {:.1%}'.format(rf_train,rf_test))\n",
    "# y_pre_df_rf = rf.predict(pre_df_scaled)"
   ]
  },
  {
   "cell_type": "markdown",
   "metadata": {},
   "source": [
    "## Adaboost"
   ]
  },
  {
   "cell_type": "code",
   "execution_count": 75,
   "metadata": {},
   "outputs": [
    {
     "name": "stdout",
     "output_type": "stream",
     "text": [
      "--- 22.391461849212646 seconds ---\n"
     ]
    }
   ],
   "source": [
    "start_time = time.time()\n",
    "\n",
    "adaboost = AdaBoostClassifier(base_estimator=DecisionTreeClassifier(max_depth=8), n_estimators=800, learning_rate=0.01)\n",
    "adaboost.fit(X_train_scaled, Y_train);\n",
    "time_adaboost=time.time() - start_time\n",
    "print(\"--- %s seconds ---\" % (time_adaboost))"
   ]
  },
  {
   "cell_type": "code",
   "execution_count": 328,
   "metadata": {},
   "outputs": [
    {
     "name": "stdout",
     "output_type": "stream",
     "text": [
      "test acc: 0.9715346534653465\n"
     ]
    }
   ],
   "source": [
    "y_pred_test = adaboost.predict(X_test_scaled)\n",
    "pred_adaboost = [round(value) for value in y_pred_test]\n",
    "test_adaboost = accuracy_score(Y_test, pred_adaboost)\n",
    "print('test acc:',test_adaboost )\n",
    "y_train_adaboost = adaboost.predict(X_train_scaled)\n",
    "train_adaboost = accuracy_score(Y_train,y_train_adaboost)\n",
    "y_test_adaboost = adaboost.predict(X_test_scaled)\n",
    "y_test_adaboost_proba = adaboost.predict_proba(X_test_scaled)[:,1]\n"
   ]
  },
  {
   "cell_type": "code",
   "execution_count": 77,
   "metadata": {},
   "outputs": [],
   "source": [
    "# y_pre_df_adaboost = adaboost.predict(pre_df_scaled)"
   ]
  },
  {
   "cell_type": "markdown",
   "metadata": {},
   "source": [
    "## XGBoost"
   ]
  },
  {
   "cell_type": "code",
   "execution_count": 329,
   "metadata": {},
   "outputs": [
    {
     "name": "stdout",
     "output_type": "stream",
     "text": [
      "--- 2.7918081283569336 seconds ---\n",
      "test Accuracy: 98.27%\n"
     ]
    }
   ],
   "source": [
    "start_time = time.time()\n",
    "xgb = xgb.XGBClassifier(max_depth=5, n_estimators=300, learning_rate=0.01).fit(X_train_scaled, Y_train)\n",
    "time_xgb=time.time() - start_time\n",
    "print(\"--- %s seconds ---\" % (time_xgb))\n",
    "\n",
    "y_pred_train_xgb = xgb.predict(X_train_scaled)\n",
    "y_pred_test_xgb = xgb.predict(X_test_scaled)\n",
    "y_pred_test_xgb_proba = xgb.predict_proba(X_test_scaled)[:,1]\n",
    "\n",
    "test_xgb = accuracy_score(Y_test, y_pred_test_xgb)\n",
    "train_xgb = accuracy_score(Y_test, y_pred_test_xgb)\n",
    "\n",
    "print(\"test Accuracy: %.2f%%\" % (accuracy_xgb * 100.0))\n",
    "\n",
    "# y_pre_df_xgboost = xgb.predict(pre_df_scaled)"
   ]
  },
  {
   "cell_type": "markdown",
   "metadata": {},
   "source": [
    "## K-NN"
   ]
  },
  {
   "cell_type": "code",
   "execution_count": 331,
   "metadata": {},
   "outputs": [
    {
     "name": "stdout",
     "output_type": "stream",
     "text": [
      "Best K= 4 with a max CV score of 0.9522094926350245\n",
      "--- 15.47924017906189 seconds ---\n",
      "train accuracy 0.9681359532660648\n",
      "test accuracy 0.9492574257425742\n"
     ]
    }
   ],
   "source": [
    "start_time = time.time()\n",
    "\n",
    "scores_mean=[]\n",
    "scores_std=[]\n",
    "k_number=np.arange(1,40)\n",
    "for k in range(1,40):\n",
    "    knn = KNeighborsClassifier(n_neighbors = k)\n",
    "    score_mean= cross_val_score(knn,X_train_scaled,Y_train,cv=5).mean()\n",
    "    score_std=cross_val_score(knn,X_train_scaled,Y_train,cv=5).std()\n",
    "    scores_mean.append(score_mean)\n",
    "max_score_k=max(scores_mean)\n",
    "best_k=scores_mean.index(max(scores_mean))+1\n",
    "print('Best K=',best_k, 'with a max CV score of',max_score_k)\n",
    "\n",
    "knn_best_k = KNeighborsClassifier(n_neighbors = best_k)\n",
    "knn_best_k.fit(X_train_scaled,Y_train);\n",
    "\n",
    "time_knn_best_k=time.time() - start_time\n",
    "print(\"--- %s seconds ---\" % (time_knn_best_k))\n",
    "\n",
    "y_test_pred_best_k = knn_best_k.predict(X_test_scaled)\n",
    "y_train_pred_best_k = knn_best_k.predict(X_train_scaled)\n",
    "y_test_pred_best_k_proba = knn_best_k.predict_proba(X_test_scaled)[:,1]\n",
    "\n",
    "train_knn_best_k= knn_best_k.score(X_train_scaled, Y_train)\n",
    "test_knn_best_k= knn_best_k.score(X_test_scaled, Y_test)\n",
    "\n",
    "print('train accuracy',accuracy_score(Y_train, y_train_pred_best_k))\n",
    "print('test accuracy',accuracy_score(Y_test, y_test_pred_best_k))"
   ]
  },
  {
   "cell_type": "markdown",
   "metadata": {
    "colab_type": "text",
    "id": "BJ6o10MGr0wT"
   },
   "source": [
    "## Support Vector Machines"
   ]
  },
  {
   "cell_type": "code",
   "execution_count": 341,
   "metadata": {},
   "outputs": [],
   "source": [
    "def fit_and_plot_svm_for_c(x_train, y_train, x_test, y_test,pre_df, C):\n",
    "    # Fit SVM model\n",
    "    model = svm.SVC(C=C, kernel='linear',probability=True)\n",
    "    model.fit(x_train, y_train)\n",
    "    \n",
    "    # Train and test error\n",
    "\n",
    "    tr_acc = model.score(x_train, y_train)\n",
    "    ts_acc = model.score(x_test, y_test)\n",
    "    y_pre_svm = model.predict(pre_df)\n",
    "    y_pre_svm_proba = model.predict_proba(pre_df)[:,1]\n",
    "\n",
    "    return tr_acc, ts_acc,y_pre_svm,y_pre_svm_proba"
   ]
  },
  {
   "cell_type": "code",
   "execution_count": 344,
   "metadata": {
    "colab": {},
    "colab_type": "code",
    "id": "P5Y_OfuWr0wY",
    "outputId": "d5ee16e5-ced7-48df-80fb-e1f73aa5e14f"
   },
   "outputs": [
    {
     "name": "stdout",
     "output_type": "stream",
     "text": [
      "--- 0.4933969974517822 seconds ---\n"
     ]
    }
   ],
   "source": [
    "# Fit and plot for different 'C' values\n",
    "start_time = time.time()\n",
    "tr_acc, ts_acc,y_pre_test_svm,y_pre_svm_proba = fit_and_plot_svm_for_c(X_train_scaled, Y_train,X_test_scaled, Y_test, X_test_scaled, 0.1)\n",
    "time_svm=time.time() - start_time\n",
    "print(\"--- %s seconds ---\" % (time_svm))"
   ]
  },
  {
   "cell_type": "code",
   "execution_count": 88,
   "metadata": {},
   "outputs": [
    {
     "name": "stdout",
     "output_type": "stream",
     "text": [
      "train accuracy 0.9251194901752523\n",
      "test accuracy 0.9133663366336634\n"
     ]
    }
   ],
   "source": [
    "print('train accuracy',tr_acc)\n",
    "print('test accuracy',ts_acc)"
   ]
  },
  {
   "cell_type": "markdown",
   "metadata": {},
   "source": [
    "## Artificial Neural network (ANN)\n"
   ]
  },
  {
   "cell_type": "markdown",
   "metadata": {},
   "source": [
    "In this section, we development Artificial neural network based on TensorFlow.\n",
    "Neural Networks consist of the following components:\n",
    "* An input layer, x\n",
    "* An arbitrary amount of hidden layers\n",
    "* An output layer, ŷ\n",
    "* A set of weights and biases between each layer, W and b\n",
    "* A choice of activation function for each hidden layer, σ.\n",
    "\n",
    "\n",
    "Here we built a three-layers ANN based on GridsearchCV results :\n",
    "1. Nodes per Layer: 500,300,2 \n",
    "2. Activation function: reLU\n",
    "3. Loss function: binary_crossentropy\n",
    "4. Output unit: Sigmoid \n",
    "5. Optimizer: Adam\n",
    "6. Epochs: 500\n",
    "7. Batch size: 128\n",
    "8. Validation size: .2\n"
   ]
  },
  {
   "cell_type": "code",
   "execution_count": 477,
   "metadata": {},
   "outputs": [
    {
     "name": "stdout",
     "output_type": "stream",
     "text": [
      "_________________________________________________________________\n",
      "Layer (type)                 Output Shape              Param #   \n",
      "=================================================================\n",
      "dense_13 (Dense)             (None, 500)               25500     \n",
      "_________________________________________________________________\n",
      "dense_14 (Dense)             (None, 300)               150300    \n",
      "_________________________________________________________________\n",
      "dropout_5 (Dropout)          (None, 300)               0         \n",
      "_________________________________________________________________\n",
      "dense_15 (Dense)             (None, 1)                 301       \n",
      "=================================================================\n",
      "Total params: 176,101\n",
      "Trainable params: 176,101\n",
      "Non-trainable params: 0\n",
      "_________________________________________________________________\n",
      "None\n"
     ]
    }
   ],
   "source": [
    "start_time=time.time()\n",
    "model_NN = models.Sequential()\n",
    "\n",
    "model_NN.add(layers.Dense(500, input_shape=(X_train_scaled.shape[1],),\n",
    "                activation='relu'))\n",
    "\n",
    "model_NN.add(layers.Dense(300, input_shape=(X_train_scaled.shape[1],),\n",
    "                activation='relu', \n",
    "                kernel_regularizer=regularizers.l2(0.01)))\n",
    "model_NN.add(Dropout(0.5))\n",
    "\n",
    "model_NN.add(layers.Dense(1,  \n",
    "                activation='sigmoid')) \n",
    "\n",
    "print(model_NN.summary())\n",
    "tensorflow.keras.optimizers.Adam(lr=0.01, beta_1=0.9, beta_2=0.999, epsilon=None, decay=0.0, amsgrad=False)\n",
    "model_NN.compile(loss='binary_crossentropy', optimizer='Adam', metrics=['accuracy'])"
   ]
  },
  {
   "cell_type": "code",
   "execution_count": 478,
   "metadata": {},
   "outputs": [],
   "source": [
    "%%capture\n",
    "start_time=time.time()\n",
    "ANN_history = model_NN.fit(X_train_scaled, Y_train,batch_size=128,epochs=500,validation_split=0.2)\n",
    "time_ANN=time.time() - start_time"
   ]
  },
  {
   "cell_type": "code",
   "execution_count": 480,
   "metadata": {},
   "outputs": [
    {
     "name": "stdout",
     "output_type": "stream",
     "text": [
      "1883/1883 [==============================] - 0s 45us/step\n",
      "808/808 [==============================] - 0s 42us/step\n",
      "Test loss: 0.13090957977836676\n",
      "Test ACC: 0.9789603960396039\n"
     ]
    },
    {
     "data": {
      "image/png": "[encoded data removed]",
      "text/plain": [
       "<Figure size 576x432 with 1 Axes>"
      ]
     },
     "metadata": {},
     "output_type": "display_data"
    },
    {
     "data": {
      "image/png": "[encoded data removed]",
      "text/plain": [
       "<Figure size 576x432 with 1 Axes>"
      ]
     },
     "metadata": {},
     "output_type": "display_data"
    }
   ],
   "source": [
    "train_loss,train_acc = model_NN.evaluate(X_train_scaled, Y_train, verbose=1)\n",
    "test_loss,test_acc = model_NN.evaluate(X_test_scaled, Y_test, verbose=1)\n",
    "print('Test loss:', test_loss)\n",
    "print('Test ACC:', test_acc)\n",
    "y_pre_test_NN_proba = model_NN.predict(X_test_scaled)\n",
    "y_pre_test_NN= np.array((y_pre_test_NN_proba>0.5).astype(np.int))[:,0]\n",
    "training_loss = ANN_history.history['loss']\n",
    "epoch_count = range(1, len(training_loss) + 1)\n",
    "fig, axs = plt.subplots(figsize=(8, 6))\n",
    "\n",
    "plt.plot(epoch_count, training_loss, 'r--')\n",
    "plt.legend(['Training Loss'])\n",
    "plt.xlabel('Epoch')\n",
    "plt.ylabel('Loss')\n",
    "plt.show();\n",
    "fig, axs = plt.subplots(figsize=(8, 6))\n",
    "plt.plot(ANN_history.history['acc'], '-o', label='train')\n",
    "plt.plot(ANN_history.history['val_acc'], '-*', label='val')\n",
    "\n",
    "plt.ylabel(\"Accuracy score\")\n",
    "plt.xlabel(\"Epoch\")\n",
    "plt.title(\"Accuracy score vs. Epochs\")\n",
    "\n",
    "plt.legend()\n",
    "plt.show() "
   ]
  },
  {
   "cell_type": "markdown",
   "metadata": {},
   "source": [
    "## Stacked Model\n",
    "\n",
    "Model stacking is an efficient ensemble method in which the predictions, generated by using various machine learning algorithms, are used as inputs in a second-layer learning algorithm. This second-layer algorithm is trained to optimally combine the model predictions to form a new set of predictions. For example, when linear regression is used as second-layer modeling, it estimates these weights by minimizing the least square errors. However, the second-layer modeling is not restricted to only linear models; the relationship between the predictors can be more complex, opening the door to employing other machine learning algorithms.\n",
    "\n",
    "Ensemble modeling and model stacking are especially popular in data science competitions, in which a sponsor posts a training set (which includes labels) and a test set (which does not include labels) and issues a global challenge to produce the best predictions of the test set for a specified performance criterion. The winning teams almost always use ensemble models instead of a single fine-tuned model. Often individual teams develop their own ensemble models in the early stages of the competition, and then join their forces in the later stages. \n",
    "\n",
    "Another popular data science competition is the KDD Cup. The following figure shows the winning solution for the 2015 competition, which used a three-stage stacked modeling approach. A similar approach will be trialed for this project to try and obtain maximal predictive capability.\n",
    "\n",
    "The figure shows that a diverse set of 64 single models were used to build the model library. These models are trained by using various machine learning algorithms. For example, the green boxes represent gradient boosting models (GBM), pink boxes represent neural network models (NN), and orange boxes represent factorization machines models (FM). You can see that there are multiple gradient boosting models in the model library; they probably vary in their use of different hyperparameter settings and/or feature sets.\n",
    "\n",
    "A simple way to enhance diversity is to train models by using different machine learning algorithms. For example, adding a factorization model to a set of tree-based models (such as random forest and gradient boosting) provides a nice diversity because a factorization model is trained very differently than decision tree models are trained. For the same machine learning algorithm, you can enhance diversity by using different hyperparameter settings and subsets of variables. If you have many features, one efficient method is to choose subsets of the variables by simple random sampling.\n",
    "\n",
    "Overfitting is an especially big problem in model stacking, because so many predictors that all predict the same target are combined. Overfitting is partially caused by this collinearity between the predictors. The most efficient techniques for training models (especially during the stacking stages) include using cross validation and some form of regularization. \n",
    "\n",
    "That paper also shows how you can generate a diverse set of models by various methods (such as forests, gradient boosted decision trees, factorization machines, and logistic regression) and then combine them with stacked ensemble techniques such regularized regression methods, gradient boosting, and hill climbing methods.\n",
    "\n",
    "\n",
    "Applying stacked models to real-world big data problems can produce greater prediction accuracy and robustness than do individual models. The model stacking approach is powerful and compelling enough to alter your initial data mining mindset from finding the single best model to finding a collection of really good complementary models. Of course, this method does involve additional cost both because you need to train a large number of models and because you need to use cross validation to avoid overfitting."
   ]
  },
  {
   "cell_type": "markdown",
   "metadata": {},
   "source": [
    "## Stacked Model\n",
    "\n",
    "In this section we will try to implement a stacked model similar to that proposed in the \"[Stacked Ensemble Models for Improved Prediction Accuracy](https://support.sas.com/resources/papers/proceedings17/SAS0437-2017.pdf)\" paper."
   ]
  },
  {
   "cell_type": "markdown",
   "metadata": {},
   "source": [
    "## Helpers via Python Classes\n",
    "\n",
    "In the section of code below, we essentially write a class SklearnHelper that allows one to extend the inbuilt methods (such as train, predict and fit) common to all the Sklearn classifiers. Therefore this cuts out redundancy as won't need to write the same methods five times if we wanted to invoke five different classifiers."
   ]
  },
  {
   "cell_type": "code",
   "execution_count": 139,
   "metadata": {},
   "outputs": [],
   "source": [
    "# Some useful parameters which will come in handy later on\n",
    "ntrain = X_train_scaled.shape[0]\n",
    "ntest = X_test_scaled.shape[0]\n",
    "# n_pre_df=pre_df_scaled.shape[0]\n",
    "SEED = 99 # for reproducibility\n",
    "NFOLDS = 5 # set folds for out-of-fold prediction\n",
    "\n",
    "kf = KFold(n_splits = NFOLDS, random_state=SEED)\n",
    "\n",
    "# Class to extend the Sklearn classifier\n",
    "class SklearnHelper(object):\n",
    "    def __init__(self, clf, seed=0, params=None):\n",
    "        params['random_state'] = seed\n",
    "        self.clf = clf(**params)\n",
    "\n",
    "    def train(self, x_train, y_train):\n",
    "        self.clf.fit(x_train, y_train)\n",
    "\n",
    "    def predict(self, x):\n",
    "        return self.clf.predict(x)\n",
    "    \n",
    "    def fit(self,x,y):\n",
    "        return self.clf.fit(x,y)\n",
    "    \n",
    "    def feature_importances(self,x,y):\n",
    "            print(self.clf.fit(x,y).feature_importances_)"
   ]
  },
  {
   "cell_type": "markdown",
   "metadata": {},
   "source": [
    "**def init :** Python standard for invoking the default constructor for the class. This means that when you want to create an object (classifier), you have to give it the parameters of clf (what sklearn classifier you want), seed (random seed) and params (parameters for the classifiers).\n",
    "\n",
    "The rest of the code are simply methods of the class which simply call the corresponding methods already existing within the sklearn classifiers. Essentially, we have created a wrapper class to extend the various Sklearn classifiers so that this should help us reduce having to write the same code over and over when we implement multiple learners to our stacker."
   ]
  },
  {
   "cell_type": "markdown",
   "metadata": {},
   "source": [
    "### Out-of-Fold Predictions\n",
    "\n",
    "Stacking uses predictions of base classifiers as input for training to a second-level model. However one cannot simply train the base models on the full training data, generate predictions on the full test set and then output these for the second-level training. This runs the risk of your base model predictions already having \"seen\" the test set and therefore overfitting when feeding these predictions."
   ]
  },
  {
   "cell_type": "code",
   "execution_count": 140,
   "metadata": {},
   "outputs": [],
   "source": [
    "def get_oof(clf, x_train, y_train, x_test):\n",
    "    oof_train = np.zeros((ntrain,))\n",
    "    oof_test = np.zeros((ntest,))\n",
    "    oof_test_skf = np.empty((NFOLDS, ntest))\n",
    "\n",
    "    for i, (train_index, test_index) in enumerate(kf.split(x_train)):\n",
    "\n",
    "        x_tr = x_train.iloc[train_index]\n",
    "        y_tr = y_train.iloc[train_index]\n",
    "        x_te = x_train.iloc[test_index]\n",
    "        clf.train(x_tr, y_tr)\n",
    "\n",
    "        oof_train[test_index] = clf.predict(x_te)\n",
    "        oof_test_skf[i, :] = clf.predict(x_test)\n",
    "\n",
    "    oof_test[:] = oof_test_skf.mean(axis=0)\n",
    "    return oof_train.reshape(-1, 1), oof_test.reshape(-1, 1)"
   ]
  },
  {
   "cell_type": "markdown",
   "metadata": {},
   "source": [
    "### Generating our Base First-Level Models\n",
    "\n",
    "So now let us prepare five learning models as our first level classification. These models can all be conveniently invoked via the Sklearn library and are listed as follows:\n",
    "\n",
    "- **Random Forest classifier**\n",
    "- **Extra Trees classifier**\n",
    "- **AdaBoost classifer**\n",
    "- **Gradient Boosting classifer**\n",
    "- **Support Vector Machine**\n",
    "\n",
    "**Parameters**\n",
    "\n",
    "**n_jobs :** Number of cores used for the training process. If set to -1, all cores are used.\n",
    "\n",
    "**n_estimators :** Number of classification trees in your learning model ( set to 10 per default)\n",
    "\n",
    "**max_depth :** Maximum depth of tree, or how much a node should be expanded. Beware if set to too high a number would run the risk of overfitting as one would be growing the tree too deep\n",
    "\n",
    "**verbose :** Controls whether you want to output any text during the learning process. A value of 0 suppresses all text while a value of 3 outputs the tree learning process at every iteration."
   ]
  },
  {
   "cell_type": "code",
   "execution_count": 141,
   "metadata": {},
   "outputs": [],
   "source": [
    "# Create 5 objects that represent our 4 models\n",
    "# Put in our parameters for said classifiers\n",
    "# Random Forest parameters\n",
    "\n",
    "rf_params = {\n",
    "    'n_jobs': -1,\n",
    "    'n_estimators': 50,\n",
    "     'warm_start': True, \n",
    "     #'max_features': 0.2,\n",
    "    'max_depth': 15,\n",
    "    'min_samples_leaf': 2,\n",
    "    'max_features' : 'sqrt',\n",
    "    'verbose': 0\n",
    "}\n",
    "\n",
    "\n",
    "# Extra Trees Parameters\n",
    "et_params = {\n",
    "    'n_jobs': -1,\n",
    "    'n_estimators':500,\n",
    "    #'max_features': 0.5,\n",
    "    'max_depth': 4,\n",
    "    'min_samples_leaf': 2,\n",
    "    'verbose': 0\n",
    "}\n",
    "\n",
    "# AdaBoost parameters\n",
    "ada_params = {\n",
    "    'base_estimator': DecisionTreeClassifier(max_depth=5),\n",
    "    'n_estimators': 800,\n",
    "    'learning_rate' : 0.01\n",
    "}\n",
    "\n",
    "# Gradient Boosting parameters\n",
    "gb_params = {\n",
    "    'n_estimators': 500,\n",
    "     #'max_features': 0.2,\n",
    "    'max_depth': 5,\n",
    "    'min_samples_leaf': 2,\n",
    "    'verbose': 0\n",
    "}\n",
    "\n",
    "# Support Vector Classifier parameters \n",
    "svc_params = {\n",
    "    'kernel' : 'sigmoid',\n",
    "    'C' : 0.1\n",
    "    }"
   ]
  },
  {
   "cell_type": "markdown",
   "metadata": {},
   "source": [
    "Let us now create 5 objects that represent our 5 learning models via our Helper Sklearn Class we defined earlier."
   ]
  },
  {
   "cell_type": "code",
   "execution_count": 142,
   "metadata": {},
   "outputs": [],
   "source": [
    "# Create 5 objects that represent our 4 models\n",
    "rf = SklearnHelper(clf=RandomForestClassifier, seed=SEED, params=rf_params)\n",
    "et = SklearnHelper(clf=ExtraTreesClassifier, seed=SEED, params=et_params)\n",
    "ada = SklearnHelper(clf=AdaBoostClassifier, seed=SEED, params=ada_params)\n",
    "gb = SklearnHelper(clf=GradientBoostingClassifier, seed=SEED, params=gb_params)\n",
    "svc = SklearnHelper(clf=SVC, seed=SEED, params=svc_params)\n",
    "logreg_stack = SklearnHelper(clf=LogisticRegression, seed=SEED, params=logreg_params)"
   ]
  },
  {
   "cell_type": "markdown",
   "metadata": {},
   "source": [
    "### Output of the First level Predictions\n",
    "\n",
    "We now feed the training and test data into our 5 base classifiers and use the Out-of-Fold prediction function we defined earlier to generate our first level predictions. Allow a handful of minutes for the chunk of code below to run."
   ]
  },
  {
   "cell_type": "code",
   "execution_count": 144,
   "metadata": {},
   "outputs": [
    {
     "name": "stdout",
     "output_type": "stream",
     "text": [
      "Training is complete\n"
     ]
    }
   ],
   "source": [
    "# Create our OOF train and test predictions. These base results will be used as new features\n",
    "start_time = time.time()\n",
    "et_oof_train, et_oof_test = get_oof(et, X_train_scaled, Y_train, X_test_scaled) # Extra Trees\n",
    "rf_oof_train, rf_oof_test = get_oof(rf,X_train_scaled, Y_train, X_test_scaled) # Random Forest\n",
    "ada_oof_train, ada_oof_test = get_oof(ada, X_train_scaled, Y_train, X_test_scaled) # AdaBoost \n",
    "gb_oof_train, gb_oof_test = get_oof(gb,X_train_scaled, Y_train, X_test_scaled) # Gradient Boost\n",
    "svc_oof_train, svc_oof_test = get_oof(svc,X_train_scaled, Y_train, X_test_scaled) # Support Vector Classifier\n",
    "logreg_oof_train, logreg_oof_test = get_oof(logreg_stack,X_train_scaled, Y_train, X_test_scaled) # Linear Logistic \n",
    "print(\"Training is complete\")"
   ]
  },
  {
   "cell_type": "markdown",
   "metadata": {},
   "source": [
    "### Feature importances generated from the different classifiers\n",
    "\n",
    "Now having learned our the first-level classifiers, we can utilise a very nifty feature of the Sklearn models and that is to output the importances of the various features in the training and test sets with one very simple line of code.\n",
    "\n",
    "As per the Sklearn documentation, most of the classifiers are built in with an attribute which returns feature importances by simply typing in .featureimportances. Therefore we will invoke this very useful attribute via our function earliand plot the feature importances as such"
   ]
  },
  {
   "cell_type": "code",
   "execution_count": 530,
   "metadata": {},
   "outputs": [],
   "source": [
    "rf_feature = rf.feature_importances(X_train_scaled,Y_train);\n",
    "et_feature = et.feature_importances(X_train_scaled, Y_train);\n",
    "ada_feature = ada.feature_importances(X_train_scaled, Y_train);\n",
    "gb_feature = gb.feature_importances(X_train_scaled,Y_train);"
   ]
  },
  {
   "cell_type": "code",
   "execution_count": 2,
   "metadata": {},
   "outputs": [],
   "source": [
    "cols = X_train_scaled.columns.values\n",
    "# display(cols)\n",
    "# Create a dataframe with features\n",
    "feature_dataframe = pd.DataFrame( {'features': cols,\n",
    "     'Random Forest feature importances': rf_feature,\n",
    "     'Extra Trees  feature importances': et_feature,\n",
    "      'AdaBoost feature importances': ada_feature,\n",
    "    'Gradient Boost feature importances': gb_feature\n",
    "    })\n",
    "\n",
    "# feature_dataframe"
   ]
  },
  {
   "cell_type": "code",
   "execution_count": 3,
   "metadata": {
    "scrolled": false
   },
   "outputs": [],
   "source": [
    "# # Scatter plot \n",
    "# trace = go.Scatter(\n",
    "#     y = feature_dataframe['Random Forest feature importances'].values,\n",
    "#     x = feature_dataframe['features'].values,\n",
    "#     mode='markers',\n",
    "#     marker=dict(\n",
    "#         sizemode = 'diameter',\n",
    "#         sizeref = 1,\n",
    "#         size = 25,\n",
    "# #       size= feature_dataframe['AdaBoost feature importances'].values,\n",
    "#         #color = np.random.randn(500), #set color equal to a variable\n",
    "#         color = feature_dataframe['Random Forest feature importances'].values,\n",
    "#         colorscale='Portland',\n",
    "#         showscale=True\n",
    "#     ),\n",
    "#     text = feature_dataframe['features'].values\n",
    "# )\n",
    "# data = [trace]\n",
    "\n",
    "\n",
    "# layout= go.Layout(\n",
    "#     autosize= True,\n",
    "#     title= 'Random Forest Feature Importance',\n",
    "#     hovermode= 'closest',\n",
    "# #     xaxis= dict(\n",
    "# #         title= 'Pop',\n",
    "# #         ticklen= 5,\n",
    "# #         zeroline= False,\n",
    "# #         gridwidth= 2,\n",
    "# #     ),\n",
    "#     yaxis=dict(\n",
    "#         title= 'Feature Importance',\n",
    "#         ticklen= 5,\n",
    "#         gridwidth= 2\n",
    "#     ),\n",
    "#     showlegend= False\n",
    "# )\n",
    "# fig = go.Figure(data=data, layout=layout)\n",
    "# py.iplot(fig,filename='scatter2010')\n",
    "\n",
    "# # Scatter plot \n",
    "# trace = go.Scatter(\n",
    "#     y = feature_dataframe['Extra Trees  feature importances'].values,\n",
    "#     x = feature_dataframe['features'].values,\n",
    "#     mode='markers',\n",
    "#     marker=dict(\n",
    "#         sizemode = 'diameter',\n",
    "#         sizeref = 1,\n",
    "#         size = 25,\n",
    "# #       size= feature_dataframe['AdaBoost feature importances'].values,\n",
    "#         #color = np.random.randn(500), #set color equal to a variable\n",
    "#         color = feature_dataframe['Extra Trees  feature importances'].values,\n",
    "#         colorscale='Portland',\n",
    "#         showscale=True\n",
    "#     ),\n",
    "#     text = feature_dataframe['features'].values\n",
    "# )\n",
    "# data = [trace]\n",
    "\n",
    "# layout= go.Layout(\n",
    "#     autosize= True,\n",
    "#     title= 'Extra Trees Feature Importance',\n",
    "#     hovermode= 'closest',\n",
    "# #     xaxis= dict(\n",
    "# #         title= 'Pop',\n",
    "# #         ticklen= 5,\n",
    "# #         zeroline= False,\n",
    "# #         gridwidth= 2,\n",
    "# #     ),\n",
    "#     yaxis=dict(\n",
    "#         title= 'Feature Importance',\n",
    "#         ticklen= 5,\n",
    "#         gridwidth= 2\n",
    "#     ),\n",
    "#     showlegend= False\n",
    "# )\n",
    "# fig = go.Figure(data=data, layout=layout)\n",
    "# py.iplot(fig,filename='scatter2010')\n",
    "\n",
    "# # Scatter plot \n",
    "# trace = go.Scatter(\n",
    "#     y = feature_dataframe['AdaBoost feature importances'].values,\n",
    "#     x = feature_dataframe['features'].values,\n",
    "#     mode='markers',\n",
    "#     marker=dict(\n",
    "#         sizemode = 'diameter',\n",
    "#         sizeref = 1,\n",
    "#         size = 25,\n",
    "# #       size= feature_dataframe['AdaBoost feature importances'].values,\n",
    "#         #color = np.random.randn(500), #set color equal to a variable\n",
    "#         color = feature_dataframe['AdaBoost feature importances'].values,\n",
    "#         colorscale='Portland',\n",
    "#         showscale=True\n",
    "#     ),\n",
    "#     text = feature_dataframe['features'].values\n",
    "# )\n",
    "# data = [trace]\n",
    "\n",
    "# layout= go.Layout(\n",
    "#     autosize= True,\n",
    "#     title= 'AdaBoost Feature Importance',\n",
    "#     hovermode= 'closest',\n",
    "# #     xaxis= dict(\n",
    "# #         title= 'Pop',\n",
    "# #         ticklen= 5,\n",
    "# #         zeroline= False,\n",
    "# #         gridwidth= 2,\n",
    "# #     ),\n",
    "#     yaxis=dict(\n",
    "#         title= 'Feature Importance',\n",
    "#         ticklen= 5,\n",
    "#         gridwidth= 2\n",
    "#     ),\n",
    "#     showlegend= False\n",
    "# )\n",
    "# fig = go.Figure(data=data, layout=layout)\n",
    "# py.iplot(fig,filename='scatter2010')\n",
    "\n",
    "# # Scatter plot \n",
    "# trace = go.Scatter(\n",
    "#     y = feature_dataframe['Gradient Boost feature importances'].values,\n",
    "#     x = feature_dataframe['features'].values,\n",
    "#     mode='markers',\n",
    "#     marker=dict(\n",
    "#         sizemode = 'diameter',\n",
    "#         sizeref = 1,\n",
    "#         size = 25,\n",
    "# #       size= feature_dataframe['AdaBoost feature importances'].values,\n",
    "#         #color = np.random.randn(500), #set color equal to a variable\n",
    "#         color = feature_dataframe['Gradient Boost feature importances'].values,\n",
    "#         colorscale='Portland',\n",
    "#         showscale=True\n",
    "#     ),\n",
    "#     text = feature_dataframe['features'].values\n",
    "# )\n",
    "# data = [trace]\n",
    "\n",
    "# layout= go.Layout(\n",
    "#     autosize= True,\n",
    "#     title= 'Gradient Boosting Feature Importance',\n",
    "#     hovermode= 'closest',\n",
    "# #     xaxis= dict(\n",
    "# #         title= 'Pop',\n",
    "# #         ticklen= 5,\n",
    "# #         zeroline= False,\n",
    "# #         gridwidth= 2,\n",
    "# #     ),\n",
    "#     yaxis=dict(\n",
    "#         title= 'Feature Importance',\n",
    "#         ticklen= 5,\n",
    "#         gridwidth= 2\n",
    "#     ),\n",
    "#     showlegend= False\n",
    "# )\n",
    "# fig = go.Figure(data=data, layout=layout)\n",
    "# py.iplot(fig,filename='scatter2010')"
   ]
  },
  {
   "cell_type": "code",
   "execution_count": 4,
   "metadata": {},
   "outputs": [],
   "source": [
    "# Create the new column containing the average of values\n",
    "feature_dataframe['mean'] = feature_dataframe.mean(axis= 1) # axis = 1 computes the mean row-wise\n",
    "# feature_dataframe.head(3)"
   ]
  },
  {
   "cell_type": "markdown",
   "metadata": {},
   "source": [
    "### Plotly Barplot of Average Feature Importances\n",
    "\n",
    "Having obtained the mean feature importance across all our classifiers, we can plot them into a Plotly bar plot as follows:"
   ]
  },
  {
   "cell_type": "code",
   "execution_count": 104,
   "metadata": {},
   "outputs": [
    {
     "data": {
      "application/vnd.plotly.v1+json": {
       "config": {
        "linkText": "Export to plot.ly",
        "plotlyServerURL": "https://plot.ly",
        "showLink": true
       },
       "data": [
        {
         "marker": {
          "color": [
           0.002592381572,
           0.00570694619875,
           0.01388787072425,
           0.018694865825,
           0.105755242275,
           0.0372522077,
           0.0073404577585,
           0.052477587805,
           0.07265480535,
           0.0254377775925,
           0.0053469759375,
           0.04812780642,
           0.033573939250000004,
           0.0135263709725,
           0.0505625904475,
           0.0003033413322395,
           0.0046832890075,
           0.0010668897902375,
           0.0002467345945,
           0.0008014231369854374,
           0.0108510465415,
           0.0150332656335,
           0.08534117115,
           0.020012924359750002,
           0.045181236775,
           0.011759963234500001,
           7.65777925e-06,
           0,
           0,
           0,
           0.000418743215,
           0.012177440470992704,
           0.01172888204325,
           0.0003538722095,
           5.545143025e-06,
           9.303648875e-06,
           0.000111532234736565,
           0.0459717722175,
           0.0416355228155,
           1.4926945525e-06,
           0,
           0.000715337055,
           3.738103075e-06,
           0.017476041591500003,
           2.722499425e-06,
           0.00013679327422499998,
           2.33739106e-05,
           0,
           0,
           1.117364555e-06
          ],
          "colorscale": "Portland",
          "reversescale": false,
          "showscale": true
         },
         "opacity": 0.6,
         "type": "bar",
         "uid": "b680b639-0d57-41b2-a2ee-4205db58d8cc",
         "width": 0.5,
         "x": [
          "overall_sentiment",
          "overall_polarity",
          "var_sentiment",
          "var_polarity",
          "percent_with_emoji",
          "percent_hashtag",
          "avg_num_hashtags",
          "percent_mention",
          "avg_num_mentions",
          "avg_time_between_mention",
          "avg_word_len",
          "avg_time_between_rt",
          "percent_tweet_rt",
          "num_languages",
          "Screen name length",
          "Number of digits in screen name",
          "User name length",
          "Default profile (binary)",
          "Default picture (binary)",
          "Number of unique profile descriptions",
          "Number of friends",
          "Number of followers",
          "Number of favorites",
          "Number of tweets per hour",
          "Number of tweets total",
          "timing_tweet",
          "overall_language_ar",
          "overall_language_ca",
          "overall_language_cs",
          "overall_language_da",
          "overall_language_de",
          "overall_language_en",
          "overall_language_es",
          "overall_language_fr",
          "overall_language_he",
          "overall_language_hu",
          "overall_language_id",
          "overall_language_it",
          "overall_language_ja",
          "overall_language_ko",
          "overall_language_ml",
          "overall_language_nl",
          "overall_language_no",
          "overall_language_pt",
          "overall_language_ro",
          "overall_language_ru",
          "overall_language_sv",
          "overall_language_th",
          "overall_language_tr",
          "overall_language_zh-cn"
         ],
         "y": [
          0.002592381572,
          0.00570694619875,
          0.01388787072425,
          0.018694865825,
          0.105755242275,
          0.0372522077,
          0.0073404577585,
          0.052477587805,
          0.07265480535,
          0.0254377775925,
          0.0053469759375,
          0.04812780642,
          0.033573939250000004,
          0.0135263709725,
          0.0505625904475,
          0.0003033413322395,
          0.0046832890075,
          0.0010668897902375,
          0.0002467345945,
          0.0008014231369854374,
          0.0108510465415,
          0.0150332656335,
          0.08534117115,
          0.020012924359750002,
          0.045181236775,
          0.011759963234500001,
          7.65777925e-06,
          0,
          0,
          0,
          0.000418743215,
          0.012177440470992704,
          0.01172888204325,
          0.0003538722095,
          5.545143025e-06,
          9.303648875e-06,
          0.000111532234736565,
          0.0459717722175,
          0.0416355228155,
          1.4926945525e-06,
          0,
          0.000715337055,
          3.738103075e-06,
          0.017476041591500003,
          2.722499425e-06,
          0.00013679327422499998,
          2.33739106e-05,
          0,
          0,
          1.117364555e-06
         ]
        }
       ],
       "layout": {
        "autosize": true,
        "hovermode": "closest",
        "showlegend": false,
        "title": "Barplots of Mean Feature Importance",
        "yaxis": {
         "gridwidth": 2,
         "ticklen": 5,
         "title": "Feature Importance"
        }
       }
      },
      "text/html": [
       "<div id=\"cde5a7d5-00da-443b-afd8-3ff97112dba4\" style=\"height: 525px; width: 100%;\" class=\"plotly-graph-div\"></div><script type=\"text/javascript\">require([\"plotly\"], function(Plotly) { window.PLOTLYENV=window.PLOTLYENV || {};window.PLOTLYENV.BASE_URL=\"https://plot.ly\";Plotly.newPlot(\"cde5a7d5-00da-443b-afd8-3ff97112dba4\", [{\"marker\": {\"color\": [0.002592381572, 0.00570694619875, 0.01388787072425, 0.018694865825, 0.105755242275, 0.0372522077, 0.0073404577585, 0.052477587805, 0.07265480535, 0.0254377775925, 0.0053469759375, 0.04812780642, 0.033573939250000004, 0.0135263709725, 0.0505625904475, 0.0003033413322395, 0.0046832890075, 0.0010668897902375, 0.0002467345945, 0.0008014231369854374, 0.0108510465415, 0.0150332656335, 0.08534117115, 0.020012924359750002, 0.045181236775, 0.011759963234500001, 7.65777925e-06, 0.0, 0.0, 0.0, 0.000418743215, 0.012177440470992704, 0.01172888204325, 0.0003538722095, 5.545143025e-06, 9.303648875e-06, 0.000111532234736565, 0.0459717722175, 0.0416355228155, 1.4926945525e-06, 0.0, 0.000715337055, 3.738103075e-06, 0.017476041591500003, 2.722499425e-06, 0.00013679327422499998, 2.33739106e-05, 0.0, 0.0, 1.117364555e-06], \"colorscale\": \"Portland\", \"reversescale\": false, \"showscale\": true}, \"opacity\": 0.6, \"width\": 0.5, \"x\": [\"overall_sentiment\", \"overall_polarity\", \"var_sentiment\", \"var_polarity\", \"percent_with_emoji\", \"percent_hashtag\", \"avg_num_hashtags\", \"percent_mention\", \"avg_num_mentions\", \"avg_time_between_mention\", \"avg_word_len\", \"avg_time_between_rt\", \"percent_tweet_rt\", \"num_languages\", \"Screen name length\", \"Number of digits in screen name\", \"User name length\", \"Default profile (binary)\", \"Default picture (binary)\", \"Number of unique profile descriptions\", \"Number of friends\", \"Number of followers\", \"Number of favorites\", \"Number of tweets per hour\", \"Number of tweets total\", \"timing_tweet\", \"overall_language_ar\", \"overall_language_ca\", \"overall_language_cs\", \"overall_language_da\", \"overall_language_de\", \"overall_language_en\", \"overall_language_es\", \"overall_language_fr\", \"overall_language_he\", \"overall_language_hu\", \"overall_language_id\", \"overall_language_it\", \"overall_language_ja\", \"overall_language_ko\", \"overall_language_ml\", \"overall_language_nl\", \"overall_language_no\", \"overall_language_pt\", \"overall_language_ro\", \"overall_language_ru\", \"overall_language_sv\", \"overall_language_th\", \"overall_language_tr\", \"overall_language_zh-cn\"], \"y\": [0.002592381572, 0.00570694619875, 0.01388787072425, 0.018694865825, 0.105755242275, 0.0372522077, 0.0073404577585, 0.052477587805, 0.07265480535, 0.0254377775925, 0.0053469759375, 0.04812780642, 0.033573939250000004, 0.0135263709725, 0.0505625904475, 0.0003033413322395, 0.0046832890075, 0.0010668897902375, 0.0002467345945, 0.0008014231369854374, 0.0108510465415, 0.0150332656335, 0.08534117115, 0.020012924359750002, 0.045181236775, 0.011759963234500001, 7.65777925e-06, 0.0, 0.0, 0.0, 0.000418743215, 0.012177440470992704, 0.01172888204325, 0.0003538722095, 5.545143025e-06, 9.303648875e-06, 0.000111532234736565, 0.0459717722175, 0.0416355228155, 1.4926945525e-06, 0.0, 0.000715337055, 3.738103075e-06, 0.017476041591500003, 2.722499425e-06, 0.00013679327422499998, 2.33739106e-05, 0.0, 0.0, 1.117364555e-06], \"type\": \"bar\", \"uid\": \"b680b639-0d57-41b2-a2ee-4205db58d8cc\"}], {\"autosize\": true, \"hovermode\": \"closest\", \"showlegend\": false, \"title\": \"Barplots of Mean Feature Importance\", \"yaxis\": {\"gridwidth\": 2, \"ticklen\": 5, \"title\": \"Feature Importance\"}}, {\"showLink\": true, \"linkText\": \"Export to plot.ly\", \"plotlyServerURL\": \"https://plot.ly\"})});</script><script type=\"text/javascript\">window.addEventListener(\"resize\", function(){window._Plotly.Plots.resize(document.getElementById(\"cde5a7d5-00da-443b-afd8-3ff97112dba4\"));});</script>"
      ],
      "text/vnd.plotly.v1+html": [
       "<div id=\"cde5a7d5-00da-443b-afd8-3ff97112dba4\" style=\"height: 525px; width: 100%;\" class=\"plotly-graph-div\"></div><script type=\"text/javascript\">require([\"plotly\"], function(Plotly) { window.PLOTLYENV=window.PLOTLYENV || {};window.PLOTLYENV.BASE_URL=\"https://plot.ly\";Plotly.newPlot(\"cde5a7d5-00da-443b-afd8-3ff97112dba4\", [{\"marker\": {\"color\": [0.002592381572, 0.00570694619875, 0.01388787072425, 0.018694865825, 0.105755242275, 0.0372522077, 0.0073404577585, 0.052477587805, 0.07265480535, 0.0254377775925, 0.0053469759375, 0.04812780642, 0.033573939250000004, 0.0135263709725, 0.0505625904475, 0.0003033413322395, 0.0046832890075, 0.0010668897902375, 0.0002467345945, 0.0008014231369854374, 0.0108510465415, 0.0150332656335, 0.08534117115, 0.020012924359750002, 0.045181236775, 0.011759963234500001, 7.65777925e-06, 0.0, 0.0, 0.0, 0.000418743215, 0.012177440470992704, 0.01172888204325, 0.0003538722095, 5.545143025e-06, 9.303648875e-06, 0.000111532234736565, 0.0459717722175, 0.0416355228155, 1.4926945525e-06, 0.0, 0.000715337055, 3.738103075e-06, 0.017476041591500003, 2.722499425e-06, 0.00013679327422499998, 2.33739106e-05, 0.0, 0.0, 1.117364555e-06], \"colorscale\": \"Portland\", \"reversescale\": false, \"showscale\": true}, \"opacity\": 0.6, \"width\": 0.5, \"x\": [\"overall_sentiment\", \"overall_polarity\", \"var_sentiment\", \"var_polarity\", \"percent_with_emoji\", \"percent_hashtag\", \"avg_num_hashtags\", \"percent_mention\", \"avg_num_mentions\", \"avg_time_between_mention\", \"avg_word_len\", \"avg_time_between_rt\", \"percent_tweet_rt\", \"num_languages\", \"Screen name length\", \"Number of digits in screen name\", \"User name length\", \"Default profile (binary)\", \"Default picture (binary)\", \"Number of unique profile descriptions\", \"Number of friends\", \"Number of followers\", \"Number of favorites\", \"Number of tweets per hour\", \"Number of tweets total\", \"timing_tweet\", \"overall_language_ar\", \"overall_language_ca\", \"overall_language_cs\", \"overall_language_da\", \"overall_language_de\", \"overall_language_en\", \"overall_language_es\", \"overall_language_fr\", \"overall_language_he\", \"overall_language_hu\", \"overall_language_id\", \"overall_language_it\", \"overall_language_ja\", \"overall_language_ko\", \"overall_language_ml\", \"overall_language_nl\", \"overall_language_no\", \"overall_language_pt\", \"overall_language_ro\", \"overall_language_ru\", \"overall_language_sv\", \"overall_language_th\", \"overall_language_tr\", \"overall_language_zh-cn\"], \"y\": [0.002592381572, 0.00570694619875, 0.01388787072425, 0.018694865825, 0.105755242275, 0.0372522077, 0.0073404577585, 0.052477587805, 0.07265480535, 0.0254377775925, 0.0053469759375, 0.04812780642, 0.033573939250000004, 0.0135263709725, 0.0505625904475, 0.0003033413322395, 0.0046832890075, 0.0010668897902375, 0.0002467345945, 0.0008014231369854374, 0.0108510465415, 0.0150332656335, 0.08534117115, 0.020012924359750002, 0.045181236775, 0.011759963234500001, 7.65777925e-06, 0.0, 0.0, 0.0, 0.000418743215, 0.012177440470992704, 0.01172888204325, 0.0003538722095, 5.545143025e-06, 9.303648875e-06, 0.000111532234736565, 0.0459717722175, 0.0416355228155, 1.4926945525e-06, 0.0, 0.000715337055, 3.738103075e-06, 0.017476041591500003, 2.722499425e-06, 0.00013679327422499998, 2.33739106e-05, 0.0, 0.0, 1.117364555e-06], \"type\": \"bar\", \"uid\": \"b680b639-0d57-41b2-a2ee-4205db58d8cc\"}], {\"autosize\": true, \"hovermode\": \"closest\", \"showlegend\": false, \"title\": \"Barplots of Mean Feature Importance\", \"yaxis\": {\"gridwidth\": 2, \"ticklen\": 5, \"title\": \"Feature Importance\"}}, {\"showLink\": true, \"linkText\": \"Export to plot.ly\", \"plotlyServerURL\": \"https://plot.ly\"})});</script><script type=\"text/javascript\">window.addEventListener(\"resize\", function(){window._Plotly.Plots.resize(document.getElementById(\"cde5a7d5-00da-443b-afd8-3ff97112dba4\"));});</script>"
      ]
     },
     "metadata": {},
     "output_type": "display_data"
    }
   ],
   "source": [
    "y = feature_dataframe['mean'].values\n",
    "x = feature_dataframe['features'].values\n",
    "data = [go.Bar(\n",
    "            x= x,\n",
    "             y= y,\n",
    "            width = 0.5,\n",
    "            marker=dict(\n",
    "               color = feature_dataframe['mean'].values,\n",
    "            colorscale='Portland',\n",
    "            showscale=True,\n",
    "            reversescale = False\n",
    "            ),\n",
    "            opacity=0.6\n",
    "        )]\n",
    "\n",
    "layout= go.Layout(\n",
    "    autosize= True,\n",
    "    title= 'Barplots of Mean Feature Importance',\n",
    "    hovermode= 'closest',\n",
    "#     xaxis= dict(\n",
    "#         title= 'Pop',\n",
    "#         ticklen= 5,\n",
    "#         zeroline= False,\n",
    "#         gridwidth= 2,\n",
    "#     ),\n",
    "    yaxis=dict(\n",
    "        title= 'Feature Importance',\n",
    "        ticklen= 5,\n",
    "        gridwidth= 2\n",
    "    ),\n",
    "    showlegend= False\n",
    ")\n",
    "fig = go.Figure(data=data, layout=layout)\n",
    "py.iplot(fig, filename='bar-direct-labels')"
   ]
  },
  {
   "cell_type": "markdown",
   "metadata": {},
   "source": [
    "## Second-Level Predictions from the First-level Output\n",
    "\n",
    "### First-level output as new features\n",
    "\n",
    "Having now obtained our first-level predictions, one can think of it as essentially building a new set of features to be used as training data for the next classifier. As per the code below, we are therefore having as our new columns the first-level predictions from our earlier classifiers and we train the next classifier on this."
   ]
  },
  {
   "cell_type": "code",
   "execution_count": 5,
   "metadata": {},
   "outputs": [],
   "source": [
    "base_predictions_train = pd.DataFrame( {'RandomForest': rf_oof_train.ravel(),\n",
    "     'ExtraTrees': et_oof_train.ravel(),\n",
    "     'AdaBoost': ada_oof_train.ravel(),\n",
    "      'GradientBoost': gb_oof_train.ravel(),\n",
    "        'Logistic Regression': logreg_oof_train.ravel()\n",
    "    })\n",
    "display(base_predictions_train.head())\n",
    "\n",
    "base_predictions_test = pd.DataFrame( {'RandomForest': rf_oof_test.ravel(),\n",
    "     'ExtraTrees': et_oof_test.ravel(),\n",
    "     'AdaBoost': ada_oof_test.ravel(),\n",
    "      'GradientBoost': gb_oof_test.ravel(),\n",
    "        'Logistic Regression': logreg_oof_test.ravel()\n",
    "    })\n",
    "# base_predictions_test.head()"
   ]
  },
  {
   "cell_type": "markdown",
   "metadata": {},
   "source": [
    "### Correlation Heatmap of the Second Level Training set"
   ]
  },
  {
   "cell_type": "code",
   "execution_count": 147,
   "metadata": {},
   "outputs": [
    {
     "data": {
      "application/vnd.plotly.v1+json": {
       "config": {
        "linkText": "Export to plot.ly",
        "plotlyServerURL": "https://plot.ly",
        "showLink": true
       },
       "data": [
        {
         "colorscale": "Viridis",
         "reversescale": true,
         "showscale": true,
         "type": "heatmap",
         "uid": "32499365-0263-4380-a3b7-bab0f0dade9d",
         "x": [
          "RandomForest",
          "ExtraTrees",
          "AdaBoost",
          "GradientBoost",
          "Logistic Regression"
         ],
         "y": [
          "RandomForest",
          "ExtraTrees",
          "AdaBoost",
          "GradientBoost",
          "Logistic Regression"
         ],
         "z": [
          [
           1,
           0.8434031289695199,
           0.9698964569664577,
           0.984943321762908,
           0.9548488636948499
          ],
          [
           0.8434031289695199,
           1,
           0.8377550821494452,
           0.8474871128073714,
           0.8525751343593191
          ],
          [
           0.9698964569664577,
           0.8377550821494452,
           1,
           0.9763332402944056,
           0.935324206728914
          ],
          [
           0.984943321762908,
           0.8474871128073714,
           0.9763332402944056,
           1,
           0.9505033680423215
          ],
          [
           0.9548488636948499,
           0.8525751343593191,
           0.935324206728914,
           0.9505033680423215,
           1
          ]
         ]
        }
       ],
       "layout": {}
      },
      "text/html": [
       "<div id=\"3a3a14dd-79c4-4231-873e-a385d6d4b9f6\" style=\"height: 525px; width: 100%;\" class=\"plotly-graph-div\"></div><script type=\"text/javascript\">require([\"plotly\"], function(Plotly) { window.PLOTLYENV=window.PLOTLYENV || {};window.PLOTLYENV.BASE_URL=\"https://plot.ly\";Plotly.newPlot(\"3a3a14dd-79c4-4231-873e-a385d6d4b9f6\", [{\"colorscale\": \"Viridis\", \"reversescale\": true, \"showscale\": true, \"x\": [\"RandomForest\", \"ExtraTrees\", \"AdaBoost\", \"GradientBoost\", \"Logistic Regression\"], \"y\": [\"RandomForest\", \"ExtraTrees\", \"AdaBoost\", \"GradientBoost\", \"Logistic Regression\"], \"z\": [[1.0, 0.8434031289695199, 0.9698964569664577, 0.984943321762908, 0.9548488636948499], [0.8434031289695199, 1.0, 0.8377550821494452, 0.8474871128073714, 0.8525751343593191], [0.9698964569664577, 0.8377550821494452, 1.0, 0.9763332402944056, 0.935324206728914], [0.984943321762908, 0.8474871128073714, 0.9763332402944056, 1.0, 0.9505033680423215], [0.9548488636948499, 0.8525751343593191, 0.935324206728914, 0.9505033680423215, 1.0]], \"type\": \"heatmap\", \"uid\": \"423f9361-9c54-4a07-b721-f8571d3ad591\"}], {}, {\"showLink\": true, \"linkText\": \"Export to plot.ly\", \"plotlyServerURL\": \"https://plot.ly\"})});</script><script type=\"text/javascript\">window.addEventListener(\"resize\", function(){window._Plotly.Plots.resize(document.getElementById(\"3a3a14dd-79c4-4231-873e-a385d6d4b9f6\"));});</script>"
      ],
      "text/vnd.plotly.v1+html": [
       "<div id=\"3a3a14dd-79c4-4231-873e-a385d6d4b9f6\" style=\"height: 525px; width: 100%;\" class=\"plotly-graph-div\"></div><script type=\"text/javascript\">require([\"plotly\"], function(Plotly) { window.PLOTLYENV=window.PLOTLYENV || {};window.PLOTLYENV.BASE_URL=\"https://plot.ly\";Plotly.newPlot(\"3a3a14dd-79c4-4231-873e-a385d6d4b9f6\", [{\"colorscale\": \"Viridis\", \"reversescale\": true, \"showscale\": true, \"x\": [\"RandomForest\", \"ExtraTrees\", \"AdaBoost\", \"GradientBoost\", \"Logistic Regression\"], \"y\": [\"RandomForest\", \"ExtraTrees\", \"AdaBoost\", \"GradientBoost\", \"Logistic Regression\"], \"z\": [[1.0, 0.8434031289695199, 0.9698964569664577, 0.984943321762908, 0.9548488636948499], [0.8434031289695199, 1.0, 0.8377550821494452, 0.8474871128073714, 0.8525751343593191], [0.9698964569664577, 0.8377550821494452, 1.0, 0.9763332402944056, 0.935324206728914], [0.984943321762908, 0.8474871128073714, 0.9763332402944056, 1.0, 0.9505033680423215], [0.9548488636948499, 0.8525751343593191, 0.935324206728914, 0.9505033680423215, 1.0]], \"type\": \"heatmap\", \"uid\": \"423f9361-9c54-4a07-b721-f8571d3ad591\"}], {}, {\"showLink\": true, \"linkText\": \"Export to plot.ly\", \"plotlyServerURL\": \"https://plot.ly\"})});</script><script type=\"text/javascript\">window.addEventListener(\"resize\", function(){window._Plotly.Plots.resize(document.getElementById(\"3a3a14dd-79c4-4231-873e-a385d6d4b9f6\"));});</script>"
      ]
     },
     "metadata": {},
     "output_type": "display_data"
    }
   ],
   "source": [
    "data = [\n",
    "    go.Heatmap(\n",
    "        z= base_predictions_train.astype(float).corr().values ,\n",
    "        x=base_predictions_train.columns.values,\n",
    "        y= base_predictions_train.columns.values,\n",
    "          colorscale='Viridis',\n",
    "            showscale=True,\n",
    "            reversescale = True\n",
    "    )\n",
    "]\n",
    "py.iplot(data, filename='labelled-heatmap')"
   ]
  },
  {
   "cell_type": "code",
   "execution_count": 376,
   "metadata": {},
   "outputs": [],
   "source": [
    "x_train = np.concatenate((0.3*ada_oof_train, 0.01*svc_oof_train, 0.3*rf_oof_train, 0.35*logreg_oof_train), axis=1)\n",
    "x_test = np.concatenate((0.3*ada_oof_test, 0.01*svc_oof_test, 0.3*rf_oof_test, 0.35*logreg_oof_test), axis=1)\n",
    "x_train = x_train.mean(axis=1).reshape(-1,1)\n",
    "x_test = x_test.mean(axis=1).reshape(-1,1)"
   ]
  },
  {
   "cell_type": "markdown",
   "metadata": {},
   "source": [
    "There have been quite a few articles and Kaggle competition winner stories about the merits of having trained models that are more uncorrelated with one another producing better scores. Having now concatenated and joined both the first-level train and test predictions as x_train and x_test, we can now fit a second-level learning model.\n",
    "\n",
    "### Second level learning model via XGBoost\n",
    "\n",
    "Here we choose the eXtremely famous library for boosted tree learning model, XGBoost. It was built to optimize large-scale boosted tree algorithms. For further information about the algorithm, check out the official documentation.\n",
    "\n",
    "Anyways, we call an XGBClassifier and fit it to the first-level train and target data and use the learned model to predict the test data as follows:"
   ]
  },
  {
   "cell_type": "code",
   "execution_count": 377,
   "metadata": {},
   "outputs": [],
   "source": [
    "import xgboost as xgb\n",
    "gbm = xgb.XGBClassifier(\n",
    "    learning_rate = 0.001,\n",
    " n_estimators= 1000,\n",
    " max_depth= 5,\n",
    " min_child_weight= 1,\n",
    " gamma=0.8,                      \n",
    " subsample=0.7,\n",
    " colsample_bytree=0.9,\n",
    " objective= 'binary:hinge',\n",
    " nthread= -1,\n",
    " scale_pos_weight=1).fit(x_train, Y_train)\n",
    "predictions = gbm.predict(x_test)"
   ]
  },
  {
   "cell_type": "code",
   "execution_count": 378,
   "metadata": {},
   "outputs": [
    {
     "name": "stdout",
     "output_type": "stream",
     "text": [
      "--- 399.203999042511 seconds ---\n"
     ]
    }
   ],
   "source": [
    "time_stacking=time.time() - start_time\n",
    "print(\"--- %s seconds ---\" % (time_stacking))"
   ]
  },
  {
   "cell_type": "markdown",
   "metadata": {},
   "source": [
    "Just a quick run down of the XGBoost parameters used in the model:\n",
    "\n",
    "**max_depth :** How deep you want to grow your tree. Beware if set to too high a number might run the risk of overfitting.\n",
    "\n",
    "**gamma :** minimum loss reduction required to make a further partition on a leaf node of the tree. The larger, the more conservative the algorithm will be.\n",
    "\n",
    "**eta :** step size shrinkage used in each boosting step to prevent overfitting"
   ]
  },
  {
   "cell_type": "code",
   "execution_count": 408,
   "metadata": {},
   "outputs": [],
   "source": [
    "gbm_train = gbm.score(x_train, Y_train)\n",
    "test_gbm=gbm.score(x_test, Y_test)"
   ]
  },
  {
   "cell_type": "markdown",
   "metadata": {},
   "source": [
    "## Blending\n",
    "\n",
    "In this section we utilize the `mlens` package to develop a blended ensemble with 3 layers and more than 20 different classification techniques in order to achieve a truly superior predictive capability to the previous models. The blended model is also surprisingly fast given that it contains so many different methods, including many not previously discussed in AC209a such as gaussian process classifiers, MLP classifiers, extremely randomized tree classifiers, naive Bayes classifiers, and more.\n",
    "\n",
    "The purpose of showing the blended model is to see what happens when you (quite literally) throw everything you have at the problem and see how well you do. In this case, we do surprisingly well, but trying to optimize the hyperparameters of this model would be a truly daunting task, and there is essentially no interpretability in this model. It is purely to obtain maximal accuracy for the given input data."
   ]
  },
  {
   "cell_type": "code",
   "execution_count": 402,
   "metadata": {},
   "outputs": [
    {
     "name": "stdout",
     "output_type": "stream",
     "text": [
      "--- 4.3160271644592285 seconds ---\n"
     ]
    }
   ],
   "source": [
    "start_time=time.time()\n",
    "ensemble = BlendEnsemble()\n",
    "ensemble.add([SVR(C=.1), RandomForestClassifier(n_estimators=200, random_state=SEED), LogisticRegression(C=1),  ExtraTreesClassifier(max_depth=10,random_state=SEED), GradientBoostingClassifier(random_state=SEED), AdaBoostClassifier(random_state=SEED)])\n",
    "#ensemble.add([SVC(C=1),GaussianProcessClassifier(random_state=SEED),LogisticRegression(C=1000000), GradientBoostingClassifier(random_state=SEED), AdaBoostClassifier(random_state=SEED)])\n",
    "#ensemble.add([ RandomForestClassifier(n_estimators=100, random_state=SEED), GradientBoostingClassifier(random_state=SEED),GaussianProcessClassifier(random_state=SEED)])\n",
    "ensemble.add([SVC(C=1), AdaBoostClassifier(random_state=SEED)])\n",
    "#ensemble.add([xgb.XGBClassifier(random_state=SEED), RandomForestClassifier(n_estimators=200, random_state=SEED), GradientBoostingClassifier(random_state=SEED)])\n",
    "ensemble.add_meta(xgb.XGBClassifier(random_state=SEED))\n",
    "ensemble.fit(X_train_scaled, Y_train)\n",
    "preds = ensemble.predict(X_test_scaled)\n",
    "ensemble_train = accuracy_score(Y_train, ensemble.predict(X_train_scaled))\n",
    "time_blending=time.time() - start_time\n",
    "print(\"--- %s seconds ---\" % (time_blending))"
   ]
  },
  {
   "cell_type": "code",
   "execution_count": 404,
   "metadata": {},
   "outputs": [],
   "source": [
    "ensemble_test = accuracy_score(Y_test, ensemble.predict(X_test_scaled))"
   ]
  },
  {
   "cell_type": "markdown",
   "metadata": {},
   "source": [
    "The weighted stacked model performed the best on the test set, achieving an accuracy of 85.7%, a value more than 1% higher than that achieved by the other best models: logistic regression and random forest. With extra tuning of hyperparameters and model weightings it is likely that this could be increased further."
   ]
  },
  {
   "cell_type": "markdown",
   "metadata": {},
   "source": [
    "## Summary of Models\n",
    "\n",
    "In this section, we briefly discuss the performance of the different methods based on runtime, training accuracy and test accuracy. We will have a more detailed discussion in Model Evaluation section."
   ]
  },
  {
   "cell_type": "code",
   "execution_count": 510,
   "metadata": {},
   "outputs": [
    {
     "data": {
      "text/html": [
       "<div>\n",
       "<style scoped>\n",
       "    .dataframe tbody tr th:only-of-type {\n",
       "        vertical-align: middle;\n",
       "    }\n",
       "\n",
       "    .dataframe tbody tr th {\n",
       "        vertical-align: top;\n",
       "    }\n",
       "\n",
       "    .dataframe thead th {\n",
       "        text-align: right;\n",
       "    }\n",
       "</style>\n",
       "<table border=\"1\" class=\"dataframe\">\n",
       "  <thead>\n",
       "    <tr style=\"text-align: right;\">\n",
       "      <th></th>\n",
       "      <th>training time(s)</th>\n",
       "      <th>train accuracy</th>\n",
       "      <th>test accuracy</th>\n",
       "    </tr>\n",
       "  </thead>\n",
       "  <tbody>\n",
       "    <tr>\n",
       "      <th>Linear LR</th>\n",
       "      <td>0.278980</td>\n",
       "      <td>0.989379</td>\n",
       "      <td>0.971535</td>\n",
       "    </tr>\n",
       "    <tr>\n",
       "      <th>Polynomial LR</th>\n",
       "      <td>50.692994</td>\n",
       "      <td>0.998938</td>\n",
       "      <td>0.969059</td>\n",
       "    </tr>\n",
       "    <tr>\n",
       "      <th>LDA</th>\n",
       "      <td>0.013134</td>\n",
       "      <td>0.944769</td>\n",
       "      <td>0.931931</td>\n",
       "    </tr>\n",
       "    <tr>\n",
       "      <th>Random Forest</th>\n",
       "      <td>0.201104</td>\n",
       "      <td>1.000000</td>\n",
       "      <td>0.983911</td>\n",
       "    </tr>\n",
       "    <tr>\n",
       "      <th>AdaBoost</th>\n",
       "      <td>22.391462</td>\n",
       "      <td>1.000000</td>\n",
       "      <td>0.971535</td>\n",
       "    </tr>\n",
       "    <tr>\n",
       "      <th>XGBoost</th>\n",
       "      <td>2.791808</td>\n",
       "      <td>0.982673</td>\n",
       "      <td>0.982673</td>\n",
       "    </tr>\n",
       "    <tr>\n",
       "      <th>kNN</th>\n",
       "      <td>15.479240</td>\n",
       "      <td>0.968136</td>\n",
       "      <td>0.949257</td>\n",
       "    </tr>\n",
       "    <tr>\n",
       "      <th>SVM</th>\n",
       "      <td>0.493397</td>\n",
       "      <td>0.925119</td>\n",
       "      <td>0.913366</td>\n",
       "    </tr>\n",
       "    <tr>\n",
       "      <th>Stacking (2nd-Level Model)</th>\n",
       "      <td>399.203999</td>\n",
       "      <td>0.993096</td>\n",
       "      <td>0.986386</td>\n",
       "    </tr>\n",
       "    <tr>\n",
       "      <th>Blending (3rd-Level Model)</th>\n",
       "      <td>4.316027</td>\n",
       "      <td>1.000000</td>\n",
       "      <td>0.985149</td>\n",
       "    </tr>\n",
       "    <tr>\n",
       "      <th>ANN</th>\n",
       "      <td>47.042067</td>\n",
       "      <td>0.995220</td>\n",
       "      <td>0.978960</td>\n",
       "    </tr>\n",
       "  </tbody>\n",
       "</table>\n",
       "</div>"
      ],
      "text/plain": [
       "                            training time(s)  train accuracy  test accuracy\n",
       "Linear LR                           0.278980        0.989379       0.971535\n",
       "Polynomial LR                      50.692994        0.998938       0.969059\n",
       "LDA                                 0.013134        0.944769       0.931931\n",
       "Random Forest                       0.201104        1.000000       0.983911\n",
       "AdaBoost                           22.391462        1.000000       0.971535\n",
       "XGBoost                             2.791808        0.982673       0.982673\n",
       "kNN                                15.479240        0.968136       0.949257\n",
       "SVM                                 0.493397        0.925119       0.913366\n",
       "Stacking (2nd-Level Model)        399.203999        0.993096       0.986386\n",
       "Blending (3rd-Level Model)          4.316027        1.000000       0.985149\n",
       "ANN                                47.042067        0.995220       0.978960"
      ]
     },
     "metadata": {},
     "output_type": "display_data"
    }
   ],
   "source": [
    "dict_var = {\"training time(s)\": [time_logistic,time_linearLogCVpoly,time_lda,time_rf,time_adaboost,time_xgb,time_knn_best_k,time_svm,time_stacking,time_blending,time_ANN],\n",
    "              \"train accuracy\": [logreg_train, linearLogCVpoly_train,lda_train, rf_train,  train_adaboost, train_xgb, train_knn_best_k ,tr_acc, gbm_train, ensemble_train,train_acc],\n",
    "            \"test accuracy\": [logreg_test, linearLogCVpoly_test,lda_test, rf_test, test_adaboost, test_xgb,  test_knn_best_k ,ts_acc,test_gbm, ensemble_test,test_acc],\n",
    "           }\n",
    "df_var = pd.DataFrame.from_dict(dict_var)\n",
    "df_var.index= ['Linear LR', 'Polynomial LR', 'LDA','Random Forest',  'AdaBoost', 'XGBoost','kNN','SVM', 'Stacking (2nd-Level Model)', 'Blending (3rd-Level Model)','ANN']\n",
    "\n",
    "\n",
    "df_var.to_csv('df_acc_and_runtime.csv')\n",
    "display(df_var)"
   ]
  },
  {
   "cell_type": "markdown",
   "metadata": {},
   "source": [
    "### Run time comparison"
   ]
  },
  {
   "cell_type": "code",
   "execution_count": 511,
   "metadata": {},
   "outputs": [
    {
     "data": {
      "image/png": "[encoded data removed]",
      "text/plain": [
       "<Figure size 864x432 with 1 Axes>"
      ]
     },
     "metadata": {},
     "output_type": "display_data"
    }
   ],
   "source": [
    "plt.figure(figsize=(12,6))\n",
    "xx = range(len(df_var))\n",
    "index_name=df_var.index\n",
    "plt.bar(xx, np.log(df_var['training time(s)']),  alpha=0.5,color=(0.2, 0.4, 0.6, 0.6))\n",
    "plt.title('Model run time', fontsize=18)\n",
    "plt.ylabel('Log(runtime (second)', fontsize=16)\n",
    "plt.xticks(xx,index_name,rotation=90,fontsize = 16);\n",
    "sns.despine()"
   ]
  },
  {
   "cell_type": "markdown",
   "metadata": {},
   "source": [
    "### Accuracy comparison\n"
   ]
  },
  {
   "cell_type": "code",
   "execution_count": 525,
   "metadata": {},
   "outputs": [
    {
     "data": {
      "image/png": "[encoded data removed]",
      "text/plain": [
       "<Figure size 1008x720 with 1 Axes>"
      ]
     },
     "metadata": {},
     "output_type": "display_data"
    },
    {
     "data": {
      "image/png": "[encoded data removed]",
      "text/plain": [
       "<Figure size 1008x720 with 1 Axes>"
      ]
     },
     "metadata": {},
     "output_type": "display_data"
    }
   ],
   "source": [
    "plt.figure(figsize=(14,10))\n",
    "xx = range(len(df_var))\n",
    "index_name=df_var.index\n",
    "plt.bar(xx, df_var['train accuracy'], color=(0.6, 0.4, 0.6, 0.6), alpha=0.5)\n",
    "plt.ylim(0.9,1)\n",
    "plt.title('Model Comparison on Train Set', fontsize=18)\n",
    "plt.ylabel('Train Accuracy (%)', fontsize=16)\n",
    "plt.xticks(xx,index_name,rotation=90,fontsize = 16);\n",
    "sns.despine()\n",
    "\n",
    "plt.axhline(0.99, c='k', linewidth=3, linestyle='--');\n",
    "\n",
    "plt.figure(figsize=(14,10))\n",
    "xx = range(len(df_var))\n",
    "index_name=df_var.index\n",
    "plt.bar(xx, df_var['test accuracy'], color=(0.4, 0.4, 0.6, 0.6), alpha=0.5)\n",
    "plt.ylim(0.9,1)\n",
    "plt.title('Model Comparison on Test Set', fontsize=18)\n",
    "plt.ylabel('Test Accuracy (%)', fontsize=16)\n",
    "plt.xticks(xx,index_name,rotation=90,fontsize = 16);\n",
    "plt.axhline(0.97, c='k', linewidth=3, linestyle='--');\n",
    "sns.despine()"
   ]
  },
  {
   "cell_type": "markdown",
   "metadata": {},
   "source": [
    "* In terms of the model runtime,  linear logistic regression (Linear LR), LDA , random forest and SVM take less than 1 second to run. Stacking is the slowest one, which takes 399 seconds to run. Actually, this is still not too bad for small dataset (1883 observations and  50 features) as in our case. If we need to run it for a huge dataset, we may need to consider the computational expense.\n",
    "\n",
    "\n",
    "* In terms of the model accuracy, Polynomial logistic regression,  random fores, Adaboost, stacking, blending and ANN yield a training set accuray higher than 99%. The accuray score from the test set in random forest, Adaboost, XGBoost, stacking, blending and ANN are higher than 97%, which are really good.\n",
    "\n",
    "* Overall, the advanced models with the NLP features perform really good. "
   ]
  },
  {
   "cell_type": "markdown",
   "metadata": {},
   "source": [
    "### Generating predictions for future usage"
   ]
  },
  {
   "cell_type": "code",
   "execution_count": 470,
   "metadata": {},
   "outputs": [],
   "source": [
    "test_prediction = pd.DataFrame(\n",
    "    {'Actual': Y_test,\n",
    " 'Linear LR':y_pred_logreg,\n",
    "     'Polynomial LR':y_pred_linearLogCVpoly,\n",
    "     'LDA':y_pred_lda,\n",
    "     'Random Forest':rf_y_test,\n",
    "     'AdaBoost':y_test_adaboost,\n",
    "     'XGBoost':y_pred_test_xgb,\n",
    "     'kNN':y_test_pred_best_k ,\n",
    "     'SVM':y_pre_test_svm,\n",
    "     'Stacking (2nd-Level Model)':predictions,\n",
    "     'Blending (3rd-Level Model)':preds,\n",
    "     'ANN':y_pre_test_NN,\n",
    "     'Linear LR_prob':y_pred_logreg_proba,\n",
    "     'Polynomial LR_proba':y_pred_linearLogCVpoly_proba,\n",
    "     'LDA_proba':y_pred_lda_proba,\n",
    "     'Random Forest_proba':rf_y_test_proba,\n",
    "     'AdaBoost_proba':y_test_adaboost_proba,\n",
    "     'XGBoost_proba':y_pred_test_xgb_proba,\n",
    "     'kNN_proba':y_test_pred_best_k_proba,\n",
    "     'SVM_proba':y_pre_svm_proba,\n",
    "     'ANN_proba':y_pre_test_NN_proba[:,0],\n",
    "    })\n",
    "test_prediction.to_csv('test_pred_df.csv')"
   ]
  }
 ],
 "metadata": {
  "colab": {
   "collapsed_sections": [
    "CuD5S8xHr0v8",
    "bODKODK7r0wM",
    "BJ6o10MGr0wT"
   ],
   "name": "Twitter_API_group15.ipynb",
   "provenance": [],
   "toc_visible": true,
   "version": "0.3.2"
  },
  "kernelspec": {
   "display_name": "Python 3",
   "language": "python",
   "name": "python3"
  },
  "language_info": {
   "codemirror_mode": {
    "name": "ipython",
    "version": 3
   },
   "file_extension": ".py",
   "mimetype": "text/x-python",
   "name": "python",
   "nbconvert_exporter": "python",
   "pygments_lexer": "ipython3",
   "version": "3.6.5"
  }
 },
 "nbformat": 4,
 "nbformat_minor": 1
}
